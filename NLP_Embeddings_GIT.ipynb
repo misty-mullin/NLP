{
 "cells": [
  {
   "cell_type": "markdown",
   "metadata": {},
   "source": [
    "# Workshop 1 Practical: Working with Embeddings\n",
    "\n",
    "During this practical component, you are going to follow a notebook to see how simple it is to do embeddings of text. We are going to do some work on set of sentences. This tutorial requires a basic understanding of Python and Maths. Where possible I will add some external links to help with understanding.\n",
    "\n",
    "\n",
    "## Setup\n",
    "\n",
    "### Getting the relevant libraries.\n",
    "\n",
    "To run the two libraries you are going to need some libraries. You don't need to run this cell below except for the first time. No worries if you do, its not going to do anything bad, but just take some time."
   ]
  },
  {
   "cell_type": "code",
   "execution_count": 115,
   "metadata": {
    "ExecuteTime": {
     "end_time": "2022-04-04T18:29:13.950467Z",
     "start_time": "2022-04-04T18:29:13.933477Z"
    },
    "scrolled": false
   },
   "outputs": [],
   "source": [
    "# upgrade pip\n",
    "!pip install --upgrade pip\n",
    "\n",
    "# dataframe Libraries\n",
    "!pip install pandas==1.1.5\n",
    "\n",
    "# plotting Libraries\n",
    "!pip install matplotlib==3.3.3\n",
    "!pip install seaborn==0.11.2\n",
    "\n",
    "# machine learning framework libraries \n",
    "!pip install tensorflow-cpu==2.8.0\n",
    "!pip install torch==1.11.0\n",
    "\n",
    "# model framework libraries\n",
    "!pip install tensorflow-hub==0.12.0\n",
    "!pip install transformers==4.17.0\n",
    "!pip install sentence-transformers==2.2.0\n",
    "!pip install keybert==0.5.1"
   ]
  },
  {
   "cell_type": "markdown",
   "metadata": {},
   "source": [
    "### Setting up the text we are going to look at\n",
    "\n",
    "For those of new to this project, you will not have come accross the following lines of text. We use these lines below to show examples of text we can use to calibrate our own understanding of the language models. Its not an exact science, but it shows us what the model is able to pull together, and importantly also seperate.\n",
    "\n",
    "These text examples are in some cases very close in meaning - but subtly different - such as `text_1` and `text_2`, or slighly different, like text_1 and text_2 in comparison to text_3. Then the other texts are actually very different in meaning like `text_4` and `text_5`. \n",
    "\n",
    "Finally we give some sentences that are compounds of the first 5 sentences. This allows us to see how the model deals with additional text. Many of the language models clip sentences that are too long, so that they can continue to process the text in a faster way.\n",
    "\n",
    "Okay, lets look at the text:"
   ]
  },
  {
   "cell_type": "code",
   "execution_count": 1,
   "metadata": {
    "ExecuteTime": {
     "end_time": "2022-04-04T17:22:37.080798Z",
     "start_time": "2022-04-04T17:22:35.277716Z"
    }
   },
   "outputs": [],
   "source": [
    "import pandas as pd\n",
    "import numpy as np"
   ]
  },
  {
   "cell_type": "code",
   "execution_count": 2,
   "metadata": {
    "ExecuteTime": {
     "end_time": "2022-04-04T17:23:05.557908Z",
     "start_time": "2022-04-04T17:23:05.541949Z"
    }
   },
   "outputs": [],
   "source": [
    "# read in CMS complaints data - should be able to replace with any file \n",
    "df = pd.read_csv(\"CMS_complaints_tagged.csv\")\n",
    "\n",
    "text = df[\"text\"]"
   ]
  },
  {
   "cell_type": "code",
   "execution_count": 3,
   "metadata": {
    "ExecuteTime": {
     "end_time": "2022-04-04T17:23:14.659020Z",
     "start_time": "2022-04-04T17:23:14.634088Z"
    }
   },
   "outputs": [
    {
     "data": {
      "text/plain": [
       "0     36827   Based on review of records and intervi...\n",
       "1     28659  Based on interview and record review, t...\n",
       "2     32143   Based on observation and interview, th...\n",
       "3     39801  Based on observation, interview, and re...\n",
       "4     36827   Based on review of records and intervi...\n",
       "5     32143    Based on review, observation, and int...\n",
       "6     32143    Based on record review and interview,...\n",
       "7     28659  Based on observation, interview and rec...\n",
       "8     39801   Based on record review and interview, ...\n",
       "9     32143    Based on record review and interview,...\n",
       "10    32143    36827  Based on review of records and...\n",
       "11    32143  Based on record review and interview,  ...\n",
       "12    32143     36827   Based on review of records a...\n",
       "13    32143  Based upon observation, interview and r...\n",
       "14    36827  Based on record reviews and interviews,...\n",
       "Name: text, dtype: object"
      ]
     },
     "execution_count": 3,
     "metadata": {},
     "output_type": "execute_result"
    }
   ],
   "source": [
    "text"
   ]
  },
  {
   "cell_type": "code",
   "execution_count": 4,
   "metadata": {
    "ExecuteTime": {
     "end_time": "2022-04-04T17:24:00.484253Z",
     "start_time": "2022-04-04T17:24:00.465302Z"
    }
   },
   "outputs": [],
   "source": [
    "# text_1 = \"My cat only eats Norwegian Salmon, and has never thanked me once.\"\n",
    "# text_2 = \"My cat only eats Tuna, and has never tried thanked me.\"\n",
    "# text_3 = \"My dog only eats moose, and has always thanked me every time.\"\n",
    "# text_4 = \"My friend is looking forward to getting his new graphics card.\"\n",
    "# text_5 = \"The speed limit is the absolute maximum and does not mean it is safe to drive at that speed irrespective of conditions. Driving at speeds too fast for the road and traffic conditions is dangerous.\"\n",
    "# text_6 = text_5 + '. ' + text_1\n",
    "# text_7 = text_5 + '. ' + text_3\n",
    "# text_8 = text_5 + '. ' + text_4\n",
    "\n",
    "# substitute CMS complaint data\n",
    "text_1 = text[0]\n",
    "text_2 = text[1]\n",
    "text_3 = text[2]\n",
    "text_4 = text[3]\n",
    "text_5 = text[4]\n",
    "text_6 = text_5 + '. ' + text_1\n",
    "text_7 = text_5 + '. ' + text_3\n",
    "text_8 = text_5 + '. ' + text_4"
   ]
  },
  {
   "cell_type": "markdown",
   "metadata": {},
   "source": [
    "Lets put that into a pandas dataframe. We are going to use this to create a table later of the embeddings and metrics that we have. This will become more clear as we move through the tutorial."
   ]
  },
  {
   "cell_type": "code",
   "execution_count": 4,
   "metadata": {},
   "outputs": [],
   "source": [
    "import pandas as pd\n",
    "import numpy as np"
   ]
  },
  {
   "cell_type": "code",
   "execution_count": 5,
   "metadata": {
    "ExecuteTime": {
     "end_time": "2022-04-04T17:24:09.549566Z",
     "start_time": "2022-04-04T17:24:09.533698Z"
    }
   },
   "outputs": [],
   "source": [
    "# text_array = [text_1, text_2, text_3, text_4, text_5, text_6, text_7, text_8]\n",
    "# text_df = pd.DataFrame(text_array, columns=[\"text\"])"
   ]
  },
  {
   "cell_type": "code",
   "execution_count": 6,
   "metadata": {
    "ExecuteTime": {
     "end_time": "2022-04-04T17:24:51.718145Z",
     "start_time": "2022-04-04T17:24:51.709006Z"
    }
   },
   "outputs": [],
   "source": [
    "# subsitute CMS data\n",
    "text_df = pd.DataFrame(text)"
   ]
  },
  {
   "cell_type": "code",
   "execution_count": 7,
   "metadata": {
    "ExecuteTime": {
     "end_time": "2022-04-04T17:24:54.429012Z",
     "start_time": "2022-04-04T17:24:54.408211Z"
    }
   },
   "outputs": [
    {
     "data": {
      "text/html": [
       "<div>\n",
       "<style scoped>\n",
       "    .dataframe tbody tr th:only-of-type {\n",
       "        vertical-align: middle;\n",
       "    }\n",
       "\n",
       "    .dataframe tbody tr th {\n",
       "        vertical-align: top;\n",
       "    }\n",
       "\n",
       "    .dataframe thead th {\n",
       "        text-align: right;\n",
       "    }\n",
       "</style>\n",
       "<table border=\"1\" class=\"dataframe\">\n",
       "  <thead>\n",
       "    <tr style=\"text-align: right;\">\n",
       "      <th></th>\n",
       "      <th>text</th>\n",
       "    </tr>\n",
       "  </thead>\n",
       "  <tbody>\n",
       "    <tr>\n",
       "      <th>0</th>\n",
       "      <td>36827   Based on review of records and intervi...</td>\n",
       "    </tr>\n",
       "    <tr>\n",
       "      <th>1</th>\n",
       "      <td>28659  Based on interview and record review, t...</td>\n",
       "    </tr>\n",
       "    <tr>\n",
       "      <th>2</th>\n",
       "      <td>32143   Based on observation and interview, th...</td>\n",
       "    </tr>\n",
       "    <tr>\n",
       "      <th>3</th>\n",
       "      <td>39801  Based on observation, interview, and re...</td>\n",
       "    </tr>\n",
       "    <tr>\n",
       "      <th>4</th>\n",
       "      <td>36827   Based on review of records and intervi...</td>\n",
       "    </tr>\n",
       "    <tr>\n",
       "      <th>5</th>\n",
       "      <td>32143    Based on review, observation, and int...</td>\n",
       "    </tr>\n",
       "    <tr>\n",
       "      <th>6</th>\n",
       "      <td>32143    Based on record review and interview,...</td>\n",
       "    </tr>\n",
       "    <tr>\n",
       "      <th>7</th>\n",
       "      <td>28659  Based on observation, interview and rec...</td>\n",
       "    </tr>\n",
       "    <tr>\n",
       "      <th>8</th>\n",
       "      <td>39801   Based on record review and interview, ...</td>\n",
       "    </tr>\n",
       "    <tr>\n",
       "      <th>9</th>\n",
       "      <td>32143    Based on record review and interview,...</td>\n",
       "    </tr>\n",
       "    <tr>\n",
       "      <th>10</th>\n",
       "      <td>32143    36827  Based on review of records and...</td>\n",
       "    </tr>\n",
       "    <tr>\n",
       "      <th>11</th>\n",
       "      <td>32143  Based on record review and interview,  ...</td>\n",
       "    </tr>\n",
       "    <tr>\n",
       "      <th>12</th>\n",
       "      <td>32143     36827   Based on review of records a...</td>\n",
       "    </tr>\n",
       "    <tr>\n",
       "      <th>13</th>\n",
       "      <td>32143  Based upon observation, interview and r...</td>\n",
       "    </tr>\n",
       "    <tr>\n",
       "      <th>14</th>\n",
       "      <td>36827  Based on record reviews and interviews,...</td>\n",
       "    </tr>\n",
       "  </tbody>\n",
       "</table>\n",
       "</div>"
      ],
      "text/plain": [
       "                                                 text\n",
       "0   36827   Based on review of records and intervi...\n",
       "1   28659  Based on interview and record review, t...\n",
       "2   32143   Based on observation and interview, th...\n",
       "3   39801  Based on observation, interview, and re...\n",
       "4   36827   Based on review of records and intervi...\n",
       "5   32143    Based on review, observation, and int...\n",
       "6   32143    Based on record review and interview,...\n",
       "7   28659  Based on observation, interview and rec...\n",
       "8   39801   Based on record review and interview, ...\n",
       "9   32143    Based on record review and interview,...\n",
       "10  32143    36827  Based on review of records and...\n",
       "11  32143  Based on record review and interview,  ...\n",
       "12  32143     36827   Based on review of records a...\n",
       "13  32143  Based upon observation, interview and r...\n",
       "14  36827  Based on record reviews and interviews,..."
      ]
     },
     "execution_count": 7,
     "metadata": {},
     "output_type": "execute_result"
    }
   ],
   "source": [
    "text_df"
   ]
  },
  {
   "cell_type": "markdown",
   "metadata": {},
   "source": [
    "## Difference Metrics\n",
    "\n",
    "To see the difference between embeddings we are going to need some distance metrics. There are two different types. We will be using a euclidian distance. We can use Numpy's `linalg.norm` do this. We will define a function that does this distance measure."
   ]
  },
  {
   "cell_type": "code",
   "execution_count": 8,
   "metadata": {
    "ExecuteTime": {
     "end_time": "2022-04-04T17:25:06.622950Z",
     "start_time": "2022-04-04T17:25:06.606962Z"
    }
   },
   "outputs": [],
   "source": [
    "def distance(emb_1, emb_2):\n",
    "    return np.linalg.norm(emb_1 - emb_2)"
   ]
  },
  {
   "cell_type": "markdown",
   "metadata": {},
   "source": [
    "Lets look at some vectors and see the distance between them using the metric we defined above."
   ]
  },
  {
   "cell_type": "code",
   "execution_count": 9,
   "metadata": {
    "ExecuteTime": {
     "end_time": "2022-04-04T17:25:07.706179Z",
     "start_time": "2022-04-04T17:25:07.700359Z"
    }
   },
   "outputs": [],
   "source": [
    "a = np.array([1, 1, 1])\n",
    "b = np.array([1, 0, 0])\n",
    "c = np.array([2, 2, 2])\n",
    "d = np.array([1, 1, -1])\n",
    "e = np.array([0, 1, 0])"
   ]
  },
  {
   "cell_type": "code",
   "execution_count": 10,
   "metadata": {
    "ExecuteTime": {
     "end_time": "2022-04-04T17:25:08.432512Z",
     "start_time": "2022-04-04T17:25:08.410614Z"
    }
   },
   "outputs": [
    {
     "name": "stdout",
     "output_type": "stream",
     "text": [
      "L2 distance between a and a is = 0.00\n",
      "L2 distance between a and b is = 1.41\n",
      "L2 distance between a and c is = 1.73\n",
      "L2 distance between a and d is = 2.00\n",
      "L2 distance between a and e is = 1.41\n",
      "\n",
      "L2 distance between b and e is = 1.41\n"
     ]
    }
   ],
   "source": [
    "print(f\"L2 distance between a and a is = {distance(a, a):.2f}\")\n",
    "print(f\"L2 distance between a and b is = {distance(a, b):.2f}\")\n",
    "print(f\"L2 distance between a and c is = {distance(a, c):.2f}\")\n",
    "print(f\"L2 distance between a and d is = {distance(a, d):.2f}\")\n",
    "print(f\"L2 distance between a and e is = {distance(a, e):.2f}\")\n",
    "print()\n",
    "print(f\"L2 distance between b and e is = {distance(b, e):.2f}\")"
   ]
  },
  {
   "cell_type": "markdown",
   "metadata": {},
   "source": [
    "Nice, that seems reasonable. There is clearly no difference between `a` and itself. The other distances look fine too.\n",
    "\n",
    "Now we are going to do the same thing, but with the angle between the vectors. This isn't the full angle, but the cosine difference. This means that an angle of `1` is that they are the same, and `0` that they are perpendicular.\n",
    "\n",
    "Lets define the function for this cosine angle - we could use `scipy` for this and the previous, but for this tutorial we don't. Try implimenting that if you have time.\n",
    "\n",
    "We then test the angles for the vectors we defined before."
   ]
  },
  {
   "cell_type": "code",
   "execution_count": 11,
   "metadata": {
    "ExecuteTime": {
     "end_time": "2022-04-04T17:25:09.748884Z",
     "start_time": "2022-04-04T17:25:09.732770Z"
    }
   },
   "outputs": [],
   "source": [
    "def angle(emb_1, emb_2):\n",
    "    return np.inner(emb_1, emb_2) / (np.linalg.norm(emb_1) * np.linalg.norm(emb_2))"
   ]
  },
  {
   "cell_type": "code",
   "execution_count": 12,
   "metadata": {
    "ExecuteTime": {
     "end_time": "2022-04-04T17:25:10.385536Z",
     "start_time": "2022-04-04T17:25:10.376558Z"
    }
   },
   "outputs": [
    {
     "name": "stdout",
     "output_type": "stream",
     "text": [
      "Cosine Angle between a and a is = 1.00\n",
      "Cosine Angle between a and b is = 0.58\n",
      "Cosine Angle between a and c is = 1.00\n",
      "Cosine Angle between a and d is = 0.33\n",
      "Cosine Angle between a and e is = 0.58\n",
      "\n",
      "Cosine Angle between b and e is = 0.00\n"
     ]
    }
   ],
   "source": [
    "print(f\"Cosine Angle between a and a is = {angle(a, a):.2f}\")\n",
    "print(f\"Cosine Angle between a and b is = {angle(a, b):.2f}\")\n",
    "print(f\"Cosine Angle between a and c is = {angle(a, c):.2f}\")\n",
    "print(f\"Cosine Angle between a and d is = {angle(a, d):.2f}\")\n",
    "print(f\"Cosine Angle between a and e is = {angle(a, e):.2f}\")\n",
    "print()\n",
    "print(f\"Cosine Angle between b and e is = {angle(b, e):.2f}\")"
   ]
  },
  {
   "cell_type": "markdown",
   "metadata": {},
   "source": [
    "Here we see that the angle also tell us something different about what is close or not. `a` and `c` are treated the same. Conversly, `b` and `e` are totally different in angle, but in distance they are as close as `b` is to `a`. What this highlights is that it is important what difference metric you use. Partially this knowledge comes with experience of what works, and also what was used to train the model. For instance, you will need to read this up before employing a method for your search algorthim, and do some experimentation."
   ]
  },
  {
   "cell_type": "code",
   "execution_count": 13,
   "metadata": {
    "ExecuteTime": {
     "end_time": "2022-04-04T17:25:11.493122Z",
     "start_time": "2022-04-04T17:25:11.475143Z"
    }
   },
   "outputs": [],
   "source": [
    "def pairwise_dists(r):\n",
    "    m, n = r.shape\n",
    "    dm = np.zeros((m, m))\n",
    "    for i in range(m):\n",
    "        for j in range(m):\n",
    "            dm[i, j] = distance(r[i], r[j])\n",
    "    return dm"
   ]
  },
  {
   "cell_type": "markdown",
   "metadata": {},
   "source": [
    "Lets look at the pairwise distances for the vectors `a` to `e` we defined above."
   ]
  },
  {
   "cell_type": "code",
   "execution_count": 14,
   "metadata": {
    "ExecuteTime": {
     "end_time": "2022-04-04T17:25:12.417446Z",
     "start_time": "2022-04-04T17:25:12.410465Z"
    }
   },
   "outputs": [
    {
     "data": {
      "text/plain": [
       "array([[0.        , 1.41421356, 1.73205081, 2.        , 1.41421356],\n",
       "       [1.41421356, 0.        , 3.        , 1.41421356, 1.41421356],\n",
       "       [1.73205081, 3.        , 0.        , 3.31662479, 3.        ],\n",
       "       [2.        , 1.41421356, 3.31662479, 0.        , 1.41421356],\n",
       "       [1.41421356, 1.41421356, 3.        , 1.41421356, 0.        ]])"
      ]
     },
     "execution_count": 14,
     "metadata": {},
     "output_type": "execute_result"
    }
   ],
   "source": [
    "r = np.array([a, b, c, d, e])\n",
    "labels = [\"a\", \"b\", \"c\", \"d\", \"e\"]\n",
    "dm = pairwise_dists(r)\n",
    "dm"
   ]
  },
  {
   "cell_type": "markdown",
   "metadata": {},
   "source": [
    "We also want to be able visualise these distances. To do so, we are going to `matplotlib` and `seaborn`'s `heatmap`."
   ]
  },
  {
   "cell_type": "code",
   "execution_count": 15,
   "metadata": {
    "ExecuteTime": {
     "end_time": "2022-04-04T17:25:16.654303Z",
     "start_time": "2022-04-04T17:25:13.600095Z"
    }
   },
   "outputs": [],
   "source": [
    "import matplotlib.pyplot as plt\n",
    "import seaborn as sns"
   ]
  },
  {
   "cell_type": "code",
   "execution_count": 16,
   "metadata": {
    "ExecuteTime": {
     "end_time": "2022-04-04T17:25:16.665846Z",
     "start_time": "2022-04-04T17:25:16.654303Z"
    }
   },
   "outputs": [],
   "source": [
    "def dist_heatmap(dm, labels=None):\n",
    "    fig, ax = plt.subplots(1, 1, figsize=(18, 8))\n",
    "    ax.set_aspect(1)\n",
    "    sns.heatmap(dm, ax=ax)\n",
    "    if labels is not None:\n",
    "        ax.set_yticklabels(labels, rotation=0)\n",
    "    plt.show()"
   ]
  },
  {
   "cell_type": "code",
   "execution_count": 17,
   "metadata": {
    "ExecuteTime": {
     "end_time": "2022-04-04T17:25:18.282560Z",
     "start_time": "2022-04-04T17:25:17.940454Z"
    }
   },
   "outputs": [
    {
     "data": {
      "image/png": "[encoded data removed]",
      "text/plain": [
       "<Figure size 1296x576 with 2 Axes>"
      ]
     },
     "metadata": {
      "needs_background": "light"
     },
     "output_type": "display_data"
    }
   ],
   "source": [
    "dist_heatmap(dm, labels)"
   ]
  },
  {
   "cell_type": "markdown",
   "metadata": {},
   "source": [
    "With the tooling developed to look at these, I think we can move onto the first type of language model.\n",
    "\n",
    "## USE Embeddings\n",
    "\n",
    "Lets start with the first embedding method, The Universal Sentence Encoder - also know as USE. USE is really simple to use. Its a model hosted by [Tensorflow hub](https://tfhub.dev/google/universal-sentence-encoder-large/5). You can download it yourself, and just install the library. It works both on GPU and CPU, and the setup of depencancies is specific to that setup, however usage is the same.\n",
    "\n",
    "### Loading use\n",
    "\n",
    "To load the USE model, you start by loading the relivant libaries."
   ]
  },
  {
   "cell_type": "code",
   "execution_count": 18,
   "metadata": {
    "ExecuteTime": {
     "end_time": "2022-04-04T17:36:13.628392Z",
     "start_time": "2022-04-04T17:35:47.472246Z"
    }
   },
   "outputs": [],
   "source": [
    "from pathlib import Path\n",
    "import tensorflow as tf\n",
    "import tensorflow_hub as hub"
   ]
  },
  {
   "cell_type": "markdown",
   "metadata": {},
   "source": [
    "Lets load the model. Its going to take some time, about a minute or two."
   ]
  },
  {
   "cell_type": "code",
   "execution_count": 19,
   "metadata": {
    "ExecuteTime": {
     "end_time": "2022-04-04T17:37:10.004215Z",
     "start_time": "2022-04-04T17:36:13.628392Z"
    }
   },
   "outputs": [
    {
     "ename": "OSError",
     "evalue": "SavedModel file does not exist at: C:\\Users\\muher\\AppData\\Local\\Temp\\tfhub_modules\\c9fe785512ca4a1b179831acb18a0c6bfba603dd\\{saved_model.pbtxt|saved_model.pb}",
     "output_type": "error",
     "traceback": [
      "\u001b[1;31m---------------------------------------------------------------------------\u001b[0m",
      "\u001b[1;31mOSError\u001b[0m                                   Traceback (most recent call last)",
      "\u001b[1;32m~\\AppData\\Local\\Temp/ipykernel_5052/2335503934.py\u001b[0m in \u001b[0;36m<module>\u001b[1;34m\u001b[0m\n\u001b[1;32m----> 1\u001b[1;33m \u001b[0muse\u001b[0m \u001b[1;33m=\u001b[0m \u001b[0mhub\u001b[0m\u001b[1;33m.\u001b[0m\u001b[0mload\u001b[0m\u001b[1;33m(\u001b[0m\u001b[1;34m\"https://tfhub.dev/google/universal-sentence-encoder-large/5\"\u001b[0m\u001b[1;33m)\u001b[0m\u001b[1;33m\u001b[0m\u001b[1;33m\u001b[0m\u001b[0m\n\u001b[0m",
      "\u001b[1;32m~\\Anaconda3\\lib\\site-packages\\tensorflow_hub\\module_v2.py\u001b[0m in \u001b[0;36mload\u001b[1;34m(handle, tags, options)\u001b[0m\n\u001b[0;32m    104\u001b[0m         module_path, tags=tags, options=options)\n\u001b[0;32m    105\u001b[0m   \u001b[1;32melse\u001b[0m\u001b[1;33m:\u001b[0m\u001b[1;33m\u001b[0m\u001b[1;33m\u001b[0m\u001b[0m\n\u001b[1;32m--> 106\u001b[1;33m     \u001b[0mobj\u001b[0m \u001b[1;33m=\u001b[0m \u001b[0mtf\u001b[0m\u001b[1;33m.\u001b[0m\u001b[0mcompat\u001b[0m\u001b[1;33m.\u001b[0m\u001b[0mv1\u001b[0m\u001b[1;33m.\u001b[0m\u001b[0msaved_model\u001b[0m\u001b[1;33m.\u001b[0m\u001b[0mload_v2\u001b[0m\u001b[1;33m(\u001b[0m\u001b[0mmodule_path\u001b[0m\u001b[1;33m,\u001b[0m \u001b[0mtags\u001b[0m\u001b[1;33m=\u001b[0m\u001b[0mtags\u001b[0m\u001b[1;33m)\u001b[0m\u001b[1;33m\u001b[0m\u001b[1;33m\u001b[0m\u001b[0m\n\u001b[0m\u001b[0;32m    107\u001b[0m   \u001b[0mobj\u001b[0m\u001b[1;33m.\u001b[0m\u001b[0m_is_hub_module_v1\u001b[0m \u001b[1;33m=\u001b[0m \u001b[0mis_hub_module_v1\u001b[0m  \u001b[1;31m# pylint: disable=protected-access\u001b[0m\u001b[1;33m\u001b[0m\u001b[1;33m\u001b[0m\u001b[0m\n\u001b[0;32m    108\u001b[0m   \u001b[1;32mreturn\u001b[0m \u001b[0mobj\u001b[0m\u001b[1;33m\u001b[0m\u001b[1;33m\u001b[0m\u001b[0m\n",
      "\u001b[1;32m~\\Anaconda3\\lib\\site-packages\\tensorflow\\python\\saved_model\\load.py\u001b[0m in \u001b[0;36mload\u001b[1;34m(export_dir, tags, options)\u001b[0m\n\u001b[0;32m    934\u001b[0m     \u001b[0mValueError\u001b[0m\u001b[1;33m:\u001b[0m \u001b[0mIf\u001b[0m\u001b[0;31m \u001b[0m\u001b[0;31m`\u001b[0m\u001b[0mtags\u001b[0m\u001b[0;31m`\u001b[0m \u001b[0mdon\u001b[0m\u001b[0;31m'\u001b[0m\u001b[0mt\u001b[0m \u001b[0mmatch\u001b[0m \u001b[0ma\u001b[0m \u001b[0mMetaGraph\u001b[0m \u001b[1;32min\u001b[0m \u001b[0mthe\u001b[0m \u001b[0mSavedModel\u001b[0m\u001b[1;33m.\u001b[0m\u001b[1;33m\u001b[0m\u001b[1;33m\u001b[0m\u001b[0m\n\u001b[0;32m    935\u001b[0m   \"\"\"\n\u001b[1;32m--> 936\u001b[1;33m   \u001b[0mresult\u001b[0m \u001b[1;33m=\u001b[0m \u001b[0mload_internal\u001b[0m\u001b[1;33m(\u001b[0m\u001b[0mexport_dir\u001b[0m\u001b[1;33m,\u001b[0m \u001b[0mtags\u001b[0m\u001b[1;33m,\u001b[0m \u001b[0moptions\u001b[0m\u001b[1;33m)\u001b[0m\u001b[1;33m[\u001b[0m\u001b[1;34m\"root\"\u001b[0m\u001b[1;33m]\u001b[0m\u001b[1;33m\u001b[0m\u001b[1;33m\u001b[0m\u001b[0m\n\u001b[0m\u001b[0;32m    937\u001b[0m   \u001b[1;32mreturn\u001b[0m \u001b[0mresult\u001b[0m\u001b[1;33m\u001b[0m\u001b[1;33m\u001b[0m\u001b[0m\n\u001b[0;32m    938\u001b[0m \u001b[1;33m\u001b[0m\u001b[0m\n",
      "\u001b[1;32m~\\Anaconda3\\lib\\site-packages\\tensorflow\\python\\saved_model\\load.py\u001b[0m in \u001b[0;36mload_internal\u001b[1;34m(export_dir, tags, options, loader_cls, filters)\u001b[0m\n\u001b[0;32m    947\u001b[0m     \u001b[0mtags\u001b[0m \u001b[1;33m=\u001b[0m \u001b[0mnest\u001b[0m\u001b[1;33m.\u001b[0m\u001b[0mflatten\u001b[0m\u001b[1;33m(\u001b[0m\u001b[0mtags\u001b[0m\u001b[1;33m)\u001b[0m\u001b[1;33m\u001b[0m\u001b[1;33m\u001b[0m\u001b[0m\n\u001b[0;32m    948\u001b[0m   saved_model_proto, debug_info = (\n\u001b[1;32m--> 949\u001b[1;33m       loader_impl.parse_saved_model_with_debug_info(export_dir))\n\u001b[0m\u001b[0;32m    950\u001b[0m \u001b[1;33m\u001b[0m\u001b[0m\n\u001b[0;32m    951\u001b[0m   if (len(saved_model_proto.meta_graphs) == 1 and\n",
      "\u001b[1;32m~\\Anaconda3\\lib\\site-packages\\tensorflow\\python\\saved_model\\loader_impl.py\u001b[0m in \u001b[0;36mparse_saved_model_with_debug_info\u001b[1;34m(export_dir)\u001b[0m\n\u001b[0;32m     55\u001b[0m     \u001b[0mparsed\u001b[0m\u001b[1;33m.\u001b[0m \u001b[0mMissing\u001b[0m \u001b[0mgraph\u001b[0m \u001b[0mdebug\u001b[0m \u001b[0minfo\u001b[0m \u001b[0mfile\u001b[0m \u001b[1;32mis\u001b[0m \u001b[0mfine\u001b[0m\u001b[1;33m.\u001b[0m\u001b[1;33m\u001b[0m\u001b[1;33m\u001b[0m\u001b[0m\n\u001b[0;32m     56\u001b[0m   \"\"\"\n\u001b[1;32m---> 57\u001b[1;33m   \u001b[0msaved_model\u001b[0m \u001b[1;33m=\u001b[0m \u001b[0mparse_saved_model\u001b[0m\u001b[1;33m(\u001b[0m\u001b[0mexport_dir\u001b[0m\u001b[1;33m)\u001b[0m\u001b[1;33m\u001b[0m\u001b[1;33m\u001b[0m\u001b[0m\n\u001b[0m\u001b[0;32m     58\u001b[0m \u001b[1;33m\u001b[0m\u001b[0m\n\u001b[0;32m     59\u001b[0m   debug_info_path = file_io.join(\n",
      "\u001b[1;32m~\\Anaconda3\\lib\\site-packages\\tensorflow\\python\\saved_model\\loader_impl.py\u001b[0m in \u001b[0;36mparse_saved_model\u001b[1;34m(export_dir)\u001b[0m\n\u001b[0;32m    113\u001b[0m       \u001b[1;32mraise\u001b[0m \u001b[0mIOError\u001b[0m\u001b[1;33m(\u001b[0m\u001b[1;34mf\"Cannot parse file {path_to_pbtxt}: {str(e)}.\"\u001b[0m\u001b[1;33m)\u001b[0m\u001b[1;33m\u001b[0m\u001b[1;33m\u001b[0m\u001b[0m\n\u001b[0;32m    114\u001b[0m   \u001b[1;32melse\u001b[0m\u001b[1;33m:\u001b[0m\u001b[1;33m\u001b[0m\u001b[1;33m\u001b[0m\u001b[0m\n\u001b[1;32m--> 115\u001b[1;33m     raise IOError(\n\u001b[0m\u001b[0;32m    116\u001b[0m         \u001b[1;34mf\"SavedModel file does not exist at: {export_dir}{os.path.sep}\"\u001b[0m\u001b[1;33m\u001b[0m\u001b[1;33m\u001b[0m\u001b[0m\n\u001b[0;32m    117\u001b[0m         \u001b[1;34mf\"{{{constants.SAVED_MODEL_FILENAME_PBTXT}|\"\u001b[0m\u001b[1;33m\u001b[0m\u001b[1;33m\u001b[0m\u001b[0m\n",
      "\u001b[1;31mOSError\u001b[0m: SavedModel file does not exist at: C:\\Users\\muher\\AppData\\Local\\Temp\\tfhub_modules\\c9fe785512ca4a1b179831acb18a0c6bfba603dd\\{saved_model.pbtxt|saved_model.pb}"
     ]
    }
   ],
   "source": [
    "use = hub.load(\"https://tfhub.dev/google/universal-sentence-encoder-large/5\")"
   ]
  },
  {
   "cell_type": "markdown",
   "metadata": {},
   "source": [
    "### Testing its usage\n",
    "\n",
    "Right, now that we have the model, lets test it out. First up we are going to use the model itself. The model usage is simple `use([\"some text\"])`. We should just get a tensorflow tensor back of size `1` by `512` - which is the set dimensions used in the embedding space. "
   ]
  },
  {
   "cell_type": "code",
   "execution_count": null,
   "metadata": {
    "ExecuteTime": {
     "end_time": "2022-04-04T17:37:15.604394Z",
     "start_time": "2022-04-04T17:37:10.004215Z"
    }
   },
   "outputs": [],
   "source": [
    "use([text_1])"
   ]
  },
  {
   "cell_type": "markdown",
   "metadata": {},
   "source": [
    "We can now do a bigger get, by inputing a list of texts. This case three."
   ]
  },
  {
   "cell_type": "code",
   "execution_count": 20,
   "metadata": {
    "ExecuteTime": {
     "end_time": "2022-04-04T17:37:17.843151Z",
     "start_time": "2022-04-04T17:37:15.608385Z"
    }
   },
   "outputs": [
    {
     "ename": "NameError",
     "evalue": "name 'use' is not defined",
     "output_type": "error",
     "traceback": [
      "\u001b[1;31m---------------------------------------------------------------------------\u001b[0m",
      "\u001b[1;31mNameError\u001b[0m                                 Traceback (most recent call last)",
      "\u001b[1;32m~\\AppData\\Local\\Temp/ipykernel_5052/3764989820.py\u001b[0m in \u001b[0;36m<module>\u001b[1;34m\u001b[0m\n\u001b[1;32m----> 1\u001b[1;33m \u001b[0muse\u001b[0m\u001b[1;33m(\u001b[0m\u001b[1;33m[\u001b[0m\u001b[0mtext_1\u001b[0m\u001b[1;33m,\u001b[0m \u001b[0mtext_2\u001b[0m\u001b[1;33m,\u001b[0m \u001b[0mtext_3\u001b[0m\u001b[1;33m]\u001b[0m\u001b[1;33m)\u001b[0m\u001b[1;33m\u001b[0m\u001b[1;33m\u001b[0m\u001b[0m\n\u001b[0m",
      "\u001b[1;31mNameError\u001b[0m: name 'use' is not defined"
     ]
    }
   ],
   "source": [
    "use([text_1, text_2, text_3])"
   ]
  },
  {
   "cell_type": "markdown",
   "metadata": {},
   "source": [
    "Now we get a tensor of dimension `3` - because we gave it three texts, by `512`.\n",
    "\n",
    "These are fine if we are going to use the tensor for something else. Otherwise we are going to want a numpy array or a list. This is something we can do something with later in the dataframe. Lets use the function this time."
   ]
  },
  {
   "cell_type": "code",
   "execution_count": 23,
   "metadata": {
    "ExecuteTime": {
     "end_time": "2022-04-04T17:37:17.864204Z",
     "start_time": "2022-04-04T17:37:17.845144Z"
    }
   },
   "outputs": [],
   "source": [
    "def use_embeddings(use, texts):\n",
    "    return use(texts).numpy()"
   ]
  },
  {
   "cell_type": "code",
   "execution_count": 24,
   "metadata": {
    "ExecuteTime": {
     "end_time": "2022-04-04T17:37:20.062708Z",
     "start_time": "2022-04-04T17:37:17.867197Z"
    }
   },
   "outputs": [
    {
     "data": {
      "text/plain": [
       "array([[-0.10524747,  0.09755939, -0.02840294, ..., -0.00324478,\n",
       "        -0.02781587, -0.04270547],\n",
       "       [-0.04460534,  0.09316997, -0.0615067 , ..., -0.07677929,\n",
       "        -0.01422599, -0.02024265],\n",
       "       [-0.02162791,  0.11712936, -0.04010844, ...,  0.02929141,\n",
       "        -0.02328968, -0.05162372]], dtype=float32)"
      ]
     },
     "execution_count": 24,
     "metadata": {},
     "output_type": "execute_result"
    }
   ],
   "source": [
    "use_embeddings(use, [text_1, text_2, text_3])"
   ]
  },
  {
   "cell_type": "markdown",
   "metadata": {},
   "source": [
    "Enough of the playing around, lets now embed the text we have decided on at the begining, and store it in an array called `use_array`. We can use this array to study the pairwise distances."
   ]
  },
  {
   "cell_type": "code",
   "execution_count": 25,
   "metadata": {
    "ExecuteTime": {
     "end_time": "2022-04-04T17:37:29.697764Z",
     "start_time": "2022-04-04T17:37:20.065700Z"
    }
   },
   "outputs": [
    {
     "data": {
      "text/plain": [
       "array([[-0.10524744,  0.09755936, -0.02840292, ..., -0.00324479,\n",
       "        -0.02781588, -0.04270547],\n",
       "       [-0.04460532,  0.09316996, -0.06150668, ..., -0.07677928,\n",
       "        -0.01422599, -0.02024264],\n",
       "       [-0.0216279 ,  0.11712934, -0.04010843, ...,  0.02929141,\n",
       "        -0.02328968, -0.05162372],\n",
       "       ...,\n",
       "       [-0.13694282,  0.08961891, -0.06746341, ..., -0.02337589,\n",
       "        -0.0347138 ,  0.01609795],\n",
       "       [-0.07996983,  0.0921495 , -0.03228908, ..., -0.02830213,\n",
       "        -0.0254243 ,  0.01745192],\n",
       "       [-0.04375786,  0.12529384, -0.08447118, ..., -0.02303549,\n",
       "        -0.0093408 , -0.01258325]], dtype=float32)"
      ]
     },
     "execution_count": 25,
     "metadata": {},
     "output_type": "execute_result"
    }
   ],
   "source": [
    "use_embeddings(use, text_df.text.values)"
   ]
  },
  {
   "cell_type": "code",
   "execution_count": 26,
   "metadata": {
    "ExecuteTime": {
     "end_time": "2022-04-04T17:37:39.041596Z",
     "start_time": "2022-04-04T17:37:29.699756Z"
    }
   },
   "outputs": [],
   "source": [
    "use_array = use_embeddings(use, text_df.text.values)"
   ]
  },
  {
   "cell_type": "markdown",
   "metadata": {},
   "source": [
    "The pairwise distances matrix come from our function. Running the `use_array` through the `pairwise_dists` function will get us the result we want. We can then plot it out."
   ]
  },
  {
   "cell_type": "code",
   "execution_count": 27,
   "metadata": {
    "ExecuteTime": {
     "end_time": "2022-04-04T17:37:39.057074Z",
     "start_time": "2022-04-04T17:37:39.041596Z"
    }
   },
   "outputs": [],
   "source": [
    "use_dm = pairwise_dists(use_array)"
   ]
  },
  {
   "cell_type": "code",
   "execution_count": 28,
   "metadata": {
    "ExecuteTime": {
     "end_time": "2022-04-04T17:37:39.072047Z",
     "start_time": "2022-04-04T17:37:39.064434Z"
    },
    "scrolled": true
   },
   "outputs": [
    {
     "data": {
      "text/plain": [
       "array([[0.        , 0.71492857, 1.14582038],\n",
       "       [0.71492857, 0.        , 1.1361444 ],\n",
       "       [1.14582038, 1.1361444 , 0.        ]])"
      ]
     },
     "execution_count": 28,
     "metadata": {},
     "output_type": "execute_result"
    }
   ],
   "source": [
    "use_dm[:3,:3]"
   ]
  },
  {
   "cell_type": "code",
   "execution_count": 29,
   "metadata": {
    "ExecuteTime": {
     "end_time": "2022-04-04T18:29:50.872546Z",
     "start_time": "2022-04-04T18:29:50.592792Z"
    }
   },
   "outputs": [
    {
     "data": {
      "image/png": "[encoded data removed]",
      "text/plain": [
       "<Figure size 1296x576 with 2 Axes>"
      ]
     },
     "metadata": {
      "needs_background": "light"
     },
     "output_type": "display_data"
    }
   ],
   "source": [
    "# wherever dist_heatmap is used, subsitute range(0, len(data)) for the second variable (tickmark labels)\n",
    "dist_heatmap(use_dm, range(0, len(text_df.text)))"
   ]
  },
  {
   "cell_type": "markdown",
   "metadata": {},
   "source": [
    "Okay, the text is a little small, and to help you not having to scroll, Lets print them out again below. However, what we can see is that darker colours imply embeddings that are closer together. Hence the diagonal is zero. The lightest colours are the most far away from each other. \n",
    "\n",
    "Then it isn't much of a suprise that we see the 5th sentence about speed limits being really distant from the others. The 4th is also pretty far away, but interestingly not as far.\n",
    "\n",
    "When we have made the compound sentences, by adding the first sentences, we see that while they are close to each other there are still subtle differences the model picks up between - i.e. shades of dark. We can also see that while they are far from the first sentences they were added too, they are somewhat closer, as seen by the darker red than the other sentences. "
   ]
  },
  {
   "cell_type": "code",
   "execution_count": 30,
   "metadata": {
    "ExecuteTime": {
     "end_time": "2022-04-04T17:37:42.359173Z",
     "start_time": "2022-04-04T17:37:42.345187Z"
    }
   },
   "outputs": [
    {
     "name": "stdout",
     "output_type": "stream",
     "text": [
      "1 36827   Based on review of records and interview, the facility failed to ensure an effective discharge planning process was developed and implemented. The facility failed to:   A. follow its own policy for initiating referrals to a Discharge Planner for focused discharge planning in 2 patients (Patient #1 and Patient #2) of two inpatient admissions reviewed.  Refer to Tag A0800   B. establish a discharge planning needs assessment for all patients identified as needing discharge planning.  Refer to Tag A0806   C. define the qualifications for personnel other than nurses or social workers who are performing discharge planning evaluations.  Refer to Tag A0807   D. ensure discharge planning evaluations were completed, documented, and placed in the patient charts for 2 (Patient #1 and Patient #2) of 2 patients reviewed.  Refer to Tag A0812    \n",
      "\n",
      "2 28659  Based on interview and record review, the facility failed to    A. provide discharge planning for in-patient discharge needs for 4 of 4 months (January, February, March , April  2019).   This deficient practice had the likelihood to effect all patients of the facility.   Findings included   On the morning of 5/8/2019 on the medical surgical unit (MSU) the staff nurses (Staff #24 and #34) were interviewed regarding discharge planning. Both staff indicated they would call the financial manager to come speak with the patient if they need out of hospital assistance.  The Registered Nursing (RN) staff reported the newly hired discharge planner had started yesterday, 5/7/2019. The discharge planner had not begun the discharge planning process.    B.   ensured the Registered Nurses documented the assessment of patient needs leading to impending discharge from January through April 2019.   Refer to A 0806   36827 \n",
      "\n",
      "3 32143   Based on observation and interview, the facility failed to maintain a sanitary environment in 8 (Surgery, Patient Isolation Room 175, Soiled Room, Patient Supply Room, Storage Room, Inpatient Nursing Station, Emergency Room, Radiology) out of 9 (Surgery, Patient Isolation Room 175, Soiled Room, Patient Supply Room, Storage Room, Inpatient Nursing Station, Emergency Room, Radiology, Dietary) areas observed.      1.) Surgery   The Nurses desk in the preoperative area was found to have broken Formica on the desk and pulling apart from the frame leaving exposed particle board. This would result in the inability to clean properly and harbor infection. The handle was broken on one of the drawers.  The rolling vital sign machines (used to take the patients vital signs) was found to be soiled with dust and hair.  The pre-operative area had no patients and was considered clean and ready for new patients. Three biohazard trash cans were found to have trash in them.  One of the three post-operative bays was found to be used as a storage area. The bed had soiled shipping boxes on them and was not a clean area. There was only a curtain around the bed and was not sealed off from the other patient beds.  Observation of the six beds used in the pre/post-operative areas were found to be soiled with dust, hair, and rust. Staff # 11 confirmed the same soiled stretchers was taken from pre/op, to surgery, and back out to post op. The dirty beds were taken into the surgery suite exposing the patient to potential hazardous infections.  13 Blue top blood vials were found in the pre-op/post- op area expired. The tubes were ready for patient use and had expired in May of 2018.  27 Tiger top blood vials were found in the pre-op/post- op area expired. The tubes were ready for patient use and had expired in June of 2018.  Room \"C\" in the pre-op/post-op area had clean surgical uniforms hanging on a rack. The uniforms were used for staff to put on for surgery. The uniforms were not covered. The uniforms were in a room with soiled equipment. The floor of the room was soiled with dust and hair. The bed in the room had a soiled mattress and dirty blanket wadded up on the mattress. Three wheel chairs were found in the room uncovered and soiled with dust and hair.  In the medication room, medical supplies and office supplies were co-mingled. Paper forms were stacked in a particle board divider next to patient supplies. The particle board divider was dusty and soiled. The cabinet space used to count and prepare medications was soiled.  In the medication room, a metal sink was found to be heavily soiled and rusted. A black plastic box was found sitting next to the sink. The box was heavily soiled with dust and a white residue. The top of the box said \"bait box\".  In the medication room a sharps container (holds dirty used needles) was found to be hanging on the wall. The top of the box was covered with white residue.   2.) Patient Isolation Room 175  The room was used for patients that require isolation from other patients, to prevent the spread of contagious disease, or to protect the patient from an infectious disease. The room was considered clean and waiting to be used by a new patient. The door was found propped open with a piece of cardboard from a box.  A wooden chair was found in the room with multiple scratch marks exposing the porous wood underneath. This could be a source of possible infection.  The bed linen was found to have holes.  The bedside table had nicks in the table exposing particle board. The bedside table was rusted on the legs and soiled with dust and hair.  The patient monitor was dusty and the time on the monitor was not correct. The monitor was 13 minutes fast. There was no up to date preventative (PM) sicker on the monitor. The time was 2:59PM and the monitor said 15:12 (3:12PM).  Behind the head of the bed, the floor was found to be soiled with dust and trash.  The wall behind the bed was found to be missing paint and sheetrock was exposed.  The IV pole was found to be rusted and missing paint. The top of the pole had a plastic hanger on it where a medication bag had been hanging.  Inside a closet in the patient room, a large fan on a stand was pulled out of the closet. The fan was visibly soiled with dust, hair, and dirt. The last time the fan had been inspected was 7/9/16, 2 ½ years later ago. Staff #2 reported that the she was unaware the fan was kept in the room.   Inside the closet next to the fan, was a bedside commode found with plastic under the commode lid. The plastic was removed and the commode was full of old urine. Mold was growing inside the commode. The commode chair was soiled and had rusted. Staff #2 confirmed the urine was in the commode and was unsure why this was in a cleaned room. Staff #1 called in the house keeper and showed her the commode and instructed her to clean it.  The room contained a pull out couch that can be converted into a bed. The cushion was removed from the couch and dirt, dust, and food particles were found.  In the bathroom, a plastic shower chair was found. The chair was found to be soiled and covered in a white dried residue.  The shower curtain rod was rusted.  The shower head and hardware was rusted and covered in a heavy hard water stains.   3.) Soiled Room  In the patient care area, the soiled room, had trash cans with trash in them. Next to the trash cans was the house cleaning cart that was taken into patient rooms to clean. The room also held clean supplies to clean the facility, soap, trash can liners, gloves, tissues and paper products. Staff #1 and housekeeping staff confirmed there was no room in the clean closet to place the housekeeping cart and clean supplies were stored with trash in a soiled room.    4.) Patient Supply Room  In the patient supply room patient, supplies were found sitting less than six inches from the floor. The floor was soiled with dust and hair.   5.) Storage Room  In a storage room there were multiple walkers, a bedside commode chair, monitors, isolation carts, 6 open vinyl glove boxes, and miscellaneous equipment found. The equipment was uncovered and unable to determine if the equipment was clean and ready for use or soiled. In a corner of the room was 4 large boxes of lab reports and 6 large binders. The reports had patient names and identifiers of past patients. It was determined that multiple people had access to this room including, maintenance, security, and housekeeping.     6.) Inpatient Nursing Station  The floors around the inpatient nursing station were heavily soiled with dirt and hair.   7.) Emergency Room  In Emergency Room #2, an IV pole was found missing paint and rusted. The stretcher fitted sheet had holes in it. The frame and railing of the stretcher was missing paint and rusted.  A wheelchair, available for patient use, was found with torn and worn arms exposing the foam underneath.   8.) Radiology    In the CAT scan room, the head rest had a pillow on it. The pillow was wrapped in plastic and tape. The tape was discolored and the plastic was ripped. The head rest was soiled and unable to clean from all the old tape and residue.  The floor in the CAT scan room was soiled with dust and dirt. There was 4 deep holes in the concrete. The holes were filled with dirt and debris. Tiles were broken and missing.  In the GI room, the scope closet was found to be holding four scopes. Scope parts were found sitting in a basket on the bottom of the closet. There was no system or documented proof when the scopes had last been used or cleaned.  The GI mobile workstation was found to be soiled with dust and rust.                  \n",
      "\n",
      "4 39801  Based on observation, interview, and record review, the facility (TEH and CEH) failed to provide a sanitary environment to avoid sources and transmission of infectious and communicable diseases. The facility failed to:    A. ensure 1 patient care area at TEH (Cath lab PACU- Post Anesthesia Care Unit) of 2 areas observed were free from mold and mildew.   B. ensure 1 patient supply room at TEH (2nd floor supply room) of 1 that stored sterile supplies was free from mold and mildew.   C. ensure 1 laundry/environmental services room at TEH had remediation performed prior to resuming laundry services.  It was observed laundry room had a mushroom growing from the wall.   D. ensure 1 OR department at TEH of 1 observed was free of mold, mildew, and standing water. The operating room was not in use; however, it was next to Cath Lab PACU area where patient care was being performed.   E. ensure the infection control officer for the facility was notified of the mold/mildew issue identified in the laundry room and as reported in a work order 6-18-2019. The infection control officer was not aware of the mold/mildew issue identified and had no knowledge of any remediation taken in the laundry room to ensure the mold/mildew was completely removed prior to resuming laundry services in the area.   It was determined that these deficient practices posed an Immediate Jeopardy to patient health and safety and placed all patients in the facility at risk for the likelihood of harm, serious injury, and possibly subsequently death.  F. ensure the temperature in the Operating room (OR) at CEH was within acceptable standards to inhibit microbial growth, reduce the risk of infection, promote patient comfort, and assure the physical safety of all patients. The temperature and humidity were out of range for 30 of 37 days reviewed. There was no documentation on the log to indicate corrective was action taken and the temperature on follow up after corrective action was done.   G. ensure a sanitary/clean environment in 3 (Patient room 156, Patient room 157, and Housekeeping storage room 166) of 3 areas observed at CEH.  Refer to TAG A0749  \n",
      "\n",
      "5 36827   Based on review of records and interview, the facility failed to develop and implement an effective Utilization Review Plan. The facility failed to:  A. establish a Utilization Review Committee to carry out the Utilization Review functions of the hospital.  Refer to Tag A0654    B. develop and implement a Utilization Review plan that identified the frequency that cases would be reviewed or monitored by a Utilization Review Committee or the method used to identify those cases that may be outliers based on high cost or duration of stay.  Refer to Tag A0655   C. establish and implement a process for a Utilization Review Committee to review professional services provided to patients.  Refer to Tag A0658   \n",
      "\n",
      "6 32143    Based on review, observation, and interviews the facility failed to:   A.  ensure that all drugs and biological's were stored in a secured area in  1 (Medical Surgical -Texas Rural Campus) out of 4 (ER, Medical Surgical - Cleveland Campus, Medical Surgical - Texas Rural Campus, Surgery) medication rooms.    Refer to Tag A0502   B.  ensure that outdated narcotics were not available for patient use in 1 (Surgical Unit) out of 4 (ER, Medical Surgical -Cleveland Campus, Medical Surgical - Texas Rural Campus, Surgery) medication rooms.    Refer to Tag A0505    \n",
      "\n",
      "7 32143    Based on record review and interview, the facility failed to:   A.  ensure that there was a Chief Nursing Officer (CNO) with a signed job description that encompassed the responsibilities of the CNO and supervision required.  Refer to Tag A0386    B. 1.  provide a Director for the Operating Room (OR) for supervision of nursing staff administering drugs and biological's.  2. have a policy and procedures in place that addressed the required components of the conscious sedation training, ongoing in-services, continuing education (to demonstrate competence in conscious sedation), or any conscious sedation administration oversight for the Operating Room.  3. ensure nursing staff had satisfactorily completed the moderate sedation medication education program in 3 (#7, #22, and #27) of 3 employee files reviewed.    4. follow its own policy and procedures to monitor patients after conscious sedation for one hour before discharge in 1 (#1) of 3 charts reviewed.  5. ensure nursing documented what nurse or provider administered conscious sedation to a patient in 1 (#7) of 3 charts reviewed.   Refer to Tag A0405         \n",
      "\n",
      "8 28659  Based on observation, interview and record review the facility failed to   A.   properly staff  4 (CEH, HOPD Porter, Spring and Humble) of 5 (CEH, TEH, HOPD Porter, Spring and Humble) emergency departments with adequate nursing staff. The facility utilized Emergency Medical technicians and Licensed Vocational Nurses in place of Registered Nurses for three months, March, April and May of 2019    Refer to A 0392   32143 \n",
      "\n",
      "9 39801   Based on record review and interview, the facility failed to ensure there was an organized nursing service.    The facility failed to:  A. ensure safe staffing and nursing supervision to respond to patient needs and care of the patient population of each department or nursing unit in 4(TEH, CEH, Porter and Humble HOPD) of 4 units observed.   Refer to A tag 0392    B. Ensure that nursing staff had current competencies in administering cardiac medications in 1 (Medical Floor at Cleveland Hospital) of 1 areas observed.   Refer to A tag 0397     C. ensure medications were administered in a safe manner in 2 (Patient #'s 9&10) of 10 patients reviewed. The facility failed to ensure nursing staff who were titrating Nicardipine and Dobutamine (Cardiac medications) had a valid physician's order.   D. ensure there was a policy/procedure in place for nursing staff to follow on titrating medications.   Refer to A tag 0405    E. ensure that verbal orders were completed with a date, time, and dosage. F. ensure that verbal orders were clearly and accurately written to prevent medication errors and promote safe medication administration.  G. ensure that verbal orders were authenticated promptly by the ordering practitioner. H. develop and implement a policy on verbal orders.    Refer to Tag A 407    It was determined that these deficient practices posed an Immediate Jeopardy to patient health and safety and placed all patients who needed cardiac Intravenous drips at risk for the likelihood of harm, serious injury, and possibly subsequently death.   28659     32143     \n",
      "\n",
      "10 32143    Based on record review and interview, the facility failed to have an ongoing, effective, and hospital wide Quality Assurance Performance Improvement (QAPI)program. The facility does not have a QAPI plan in place and approved by the Governing Body.  There was no quality indicators, data collection and analysis, no QAPI Committee designated members, no QAPI avtivity since February 2018.  Refer to Tag A0273      \n",
      "\n",
      "11 32143    36827  Based on review of records and interview, the hospital failed to:  A) ensure all departments and services were involved in the Quality Assurance Process Improvement (QAPI) program for 5 (CEH, TEH, and HOPD locations at Porter, Spring, and Humble) out of 5 campuses.  B) analyze quality indicator data being tracked and aggregated in order to identify trends or other aspects of patient care that would identify problems with processes of care, hospital services and/or operations for 5 (CEH, TEH, and HOPD locations at Porter, Spring, and Humble) out of 5 campuses. Cross-Refer to Tag A0273  C) ensure that the QAPI plan was evaluated each year with a determination made on the number of distinct PI projects for the upcoming year for 5 (CEH, TEH, and HOPD locations at Porter, Spring, and Humble) out of 5 campuses.  Cross-Refer to Tag A0309  Findings for A included:  A review of the QAPI program was made on 5-7-2019. A binder was provided by Staff #4 that contained all of the QAPI meeting minutes, PI projects, and data that was being tracked.   An interview was conducted with Staff #4 on the afternoon of 5-7-2019. Staff #4 confirmed that the binder was complete. Staff #4 was asked to provide any additional information, evaluations, analysis, or reports that may have been reported through the QAPI program. No other information was provided.  Staff #4 was asked to provide a comprehensive list of departments that were participating in QAPI, PI projects in process, and data that was being tracked and analyzed. Staff #4 was not able to provide a comprehensive list.   The binder contained an agenda and sign-in sheet for a Quality Council meeting held on February 7, 2019. No minutes for this meeting were found. The agenda included a line item for the approval of the previous meeting minutes. Minutes of a meeting conducted on October 18, 2018 were included.  An agenda was found for a Quality Council meeting held on April 12, 2019. No sign in sheet or minutes from this meeting were found. The agenda did not include a line item for the approval of the previous meeting minutes and none were included.  Because of missing minutes and sign-in sheets, no record of what was actually discussed, who contributed to the meeting, or what had been approved could be determined. Based on records in the binder and interview with Staff #4 conducted on 5-7-2019, it was determined the following departments/services were not involved in the QAPI process: Emergency Department Respiratory Services Food and Nutrition Department Nuclear Medicine  Review of documents provided did not include any information on the evaluation and participation of contracted services. Cross-Refer to Tag A0084  \n",
      "\n",
      "12 32143  Based on record review and interview,  the facility failed to:  A. provide any relevant analyzed data, monitoring, tracking quality indicators, or providing measurable goals to relevant data to monitor effectiveness and safety of services provided.    Refer to Tag A0273   B. ensure a  hospital-wide quality assessment and performance improvement efforts addressed the  priorities for improved quality of care and patient safety. The Governing Body failed to ensure that all improvement actions are evaluated and ongoing.   Refer to Tag A0309      36827    \n",
      "\n",
      "13 32143     36827   Based on review of records and interview, the governing body failed to:  A) provide a process for physician oversight for mid-level practitioners. The facility had no evidence of physician oversight for 2 of 2 mid-level practitioners, Registered Nurse Practitioner #39 and #40. Cross Refer to Tag A0049  B) ensure that all contracted services were evaluated for safety and effectiveness through the Quality Assurance / Process Improvement (QAPI) program for 5 out of 5 campus locations (CEH, TEH, HOPDs in Porter, Humble, and Spring). Cross Refer to Tag A0084  C) 1. ensure all departments and services were involved in the Quality Assurance Process Improvement (QAPI) program for 5 (CEH, TEH, and HOPD locations at Porter, Spring, and Humble) out of 5 campuses. The Emergency Department, Respiratory Services, Food and Nutrition Department, Nuclear Medicine, and all contracted services were not involved in or evaluated by the QAPI program.      2. analyze quality indicator data being tracked and aggregated in order to identify trends or other aspects of patient care that would identify problems with processes of care, hospital services and/or operations for 5 (CEH, TEH, and HOPD locations at Porter, Spring, and Humble) out of 5 campuses. Information was being tracked and aggregated, but no evidence of data analysis for the purpose of identifying areas that may improve health outcomes, patient safety, and quality of care was found, with the exception of one Infection Control Process Improvement (PI) project and one Nursing PI project.      3. ensure that the QAPI plan was evaluated each year with a determination made on the number of distinct PI projects for the upcoming year for 5 (CEH, TEH, and HOPD locations at Porter, Spring, and Humble) out of 5 campuses.  Cross-Refer to Tag A0263  D) properly staff 4 (CEH, HOPD Porter, Spring and Humble) of 5 (CEH, TEH, HOPD Porter, Spring and Humble) emergency departments with adequate nursing staff. The facility utilized Emergency Medical technicians and Licensed Vocational Nurses in place of Registered Nurses for three months, March, April and May of 2019. Cross-Refer to Tag A0385  E) 1) provide discharge planning for in-patient discharge needs for 4 of 4 months (January, February, March, April 2019).      2) ensure the Registered Nurses documented the assessment of patient needs leading to impending discharge from January through April 2019. Cross-Refer to Tag A0799  \n",
      "\n",
      "14 32143  Based upon observation, interview and record review, the Governing Body (GB) failed to:   A. provide any relevant analyzed data, monitoring, tracking quality indicators, or providing measurable goals to relevant data to monitor effectiveness and safety of services provided.    Refer to Tag A0273   B. ensure a  hospital-wide quality assessment and performance improvement efforts addressed the  priorities for improved quality of care and patient safety. The Governing Body failed to ensure that all improvement actions are evaluated and ongoing.   Refer to Tag A0309   C. ensure safe staffing and nursing supervision to respond to patient needs and care of the patient population of each department or nursing unit in 4(TEH, CEH, Porter and Humble HOPD) of 4 units observed.   Refer to A tag 0392    D. Ensure that nursing staff had current competencies in administering cardiac medications in 1 (Medical Floor at Cleveland Hospital) of 1 areas observed.   Refer to A tag 0397 for    E. ensure medications were administered in a safe manner in 2 (Patient #'s 9&10) of 10 patients reviewed. The facility failed to ensure nursing staff who were titrating Nicardipine and Dobutamine (Cardiac medications) had a valid physician's order.   F. ensure there was a policy/procedure in place for nursing staff to follow on titrating medications.   Refer to A tag 0405    G. ensure that verbal orders were completed with a date, time, and dosage. H. ensure that verbal orders were clearly and accurately written to prevent medication errors and promote safe medication administration.  I. ensure that verbal orders were authenticated promptly by the ordering practitioner. J. develop and implement a policy on verbal orders.   Refer to Tag A 407    K. ensure 1 patient care area at TEH (Cath lab PACU- Post Anesthesia Care Unit) of 2 areas observed were free from mold and mildew.   L. ensure 1 patient supply room at TEH (2nd floor supply room) of 1 that stored sterile supplies was free from mold and mildew.   M. ensure 1 laundry/environmental services room at TEH had remediation performed prior to resuming laundry services.  It was observed the laundry room had a mushroom growing from the wall.   N. ensure 1 OR department at TEH of 1 observed was free of mold, mildew, and standing water. The operating room was not in use; however, it was next to Cath Lab PACU area where patient care was being performed.   O. ensure the infection control officer for the facility was notified of the mold/mildew issue identified in the laundry room and as reported in a work order 6-18-2019. The infection control officer was not aware of the mold/mildew issue identified and had no knowledge of any remediation taken in the laundry room to ensure the mold/mildew was completely removed prior to resuming laundry services in the area.   P. ensure the temperature in the Operating room (OR) at CEH was within acceptable standards to inhibit microbial growth, reduce the risk of infection, promote patient comfort, and assure the physical safety of all patients. The temperature and humidity were out of range for 30 of 37 days reviewed. There was no documentation on the log to indicate corrective was action taken and the temperature on follow up after corrective action was done.   Q. ensure a sanitary/clean environment in 3 (Patient room 156, Patient room 157, and Housekeeping storage room 166) of 3 areas observed at CEH.  Refer to TAG A0749       36827    \n",
      "\n",
      "15 36827  Based on record reviews and interviews, the hospital failed to meet the requirements of 42 CFR 482.1 as evidenced by failing to be primarily engaged in providing inpatient services. The regulation at 42 CFR 482.1 implements the statutory requirement at Section 1861(e) of the Social Security Act (Act). The regulation requires that: (i) Hospitals participating in Medicare must meet certain specified requirements and (ii) The Secretary may impose additional requirements if they are found necessary in the interest of the health and safety of the individuals who are furnished services in hospitals.  The Act defines hospital as: an institution that \". . . is primarily engaged in providing, by or under the supervision of physicians, to inpatients (A) diagnostic services and therapeutic services for medical diagnosis, treatment, and care of injured, disabled, or sick persons, or (B) rehabilitation services for the rehabilitation of injured, disabled, or sick persons...\"  Findings included:  Upon entrance to the hospital on 5-6-2019, it was determined the hospital had a minimum of two inpatients so that care of the patients could be observed. The survey was continued at that time.   On 1-16-2019, a database worksheet had been completed. Staff #5 confirmed that no additions or deletions of services and service locations had been made since that time. The services for the following locations were determined to be:  Cleveland Emergency Hospital (CEH) 4 inpatient beds 2 operating room 1 endoscopy room Emergency Department Services Outpatient Radiology Outpatient Laboratory  Texas Emergency Hospital (TEH) 12 inpatient beds 1 cardiac catheterization room  Emergency Department Services Outpatient Radiology Outpatient Laboratory  There were 3 Hospital Outpatient Department (HOPD) locations that provided emergency department services, outpatient laboratory services, and outpatient radiology services.  The hospital provided a report titled \"Admit List\" for the dates of 01/01/2019 thru 5/5/2018\"; one for each inpatient hospital location. This was a total of 125 calendar days. Based off the information provided, it was determined the two inpatient locations had a combined total of 77 patients admitted for inpatient services. Further review revealed the following:  Month and Year             Inpatient Admission January 2019                      13 February 2019                    17 March 2019                        12 April 2019                          30 May 1-5, 2019                    5    Month and Year             Average Length of Stay (days) January 2019                      3.1 February 2019                    1.9 March 2019                        2.3 April 2019                          1.7 May 1-5, 2019                    3.0 Average Length of Stay for the combined locations from January 1, 2019 thru May 5, 2019 was calculated to be 2.1   Month and Year             Average Daily Census January 2019                      1.3 February 2019                    1.2 March 2019                        0.9 April 2019                          1.7 May 1-5, 2019                   3.6   Average Daily Census for the combined locations from January 1, 2019 thru May 5, 2019 was calculated to be 1.1    Total Discharged Inpatients CEH - 35 TEH - 42 Total - 77  Total Inpatient Days CEH - 89 TEH - 86 Total - 175  Review of the admission and discharge patterns by day of the week from January 1, 2019 thru May 5, 2019 revealed the following: Sunday: 7 admissions and 5 discharges Monday: 13 admissions and 10 discharges Tuesday: 14 admissions and 15 discharges Wednesday: 11 admissions and 12 discharges Thursday: 6 admissions and 7 discharges Friday: 17 admissions and 13 discharges Saturday: 8 admissions and 15 discharges   Review of surgical services provided at the two locations (CEH and TEH) was made. The following was determined:  Inpatient Surgeries CEH - 5 TEH -  3 Total - 8  Outpatient Observation Surgeries CEH - 12 TEH - 8 Total - 20  Outpatient Day Surgeries CEH - 27 TEH - 2 Total - 29  Review of the volume of outpatient encounters through the Emergency Departments, Laboratory, and Radiology revealed the following:  CEH - 1,817 encounters TEH - 2,350 encounters HOPDs - 3,204 encounters Total - 7,371 encounters  Outpatient Observation admissions: CEH - 85 TEH - 128 HOPDs - 128 Total - 341  For the period of January 1, 2019 to May 5, 2019 the totals represent:  Inpatients - 77  Outpatient encounters - 7,712  Staffing Patterns  Inpatient Locations: Hospital floors with certified inpatient beds were found to be staffed with sufficient nursing staff to provide care on all shifts and over the weekends and holidays. One inpatient admission occurred on New Year Day. No inpatient admissions occurred on Easter Day.    Discharge Planning  No evidence of discharge planning or a discharge planning assessment was found in patient charts for the months of January, February, March, and April 2019.  Cross-Refer to Tag A0799  Surgery:  Interview was conducted on 5-7-2019 with Staff #5 concerning the elements required to determine if a hospital was primarily engaged in inpatient services. In discussing the surgery patterns, Staff #5 confirmed that surgeries were scheduled Monday thru Friday and that the hospital did not have an on-call surgery team available for after-hours or weekends. Staff #5 confirmed the majority of surgeries were performed as outpatient observation and day surgeries. Staff #5 stated that they do not have the staff to schedule on-call surgery teams.   40989  An interview was conducted on 5-9-2019 after 9:00 AM with Staff #50. Staff #50 was asked if the department has an on-call team for emergency surgeries. Staff #50 said, \"We do not have an on-call team for surgery. We just don't have the staff and we are not required to take call here. We don't even have the staff to run two rooms.\"  Review of Policy and Procedure showed that it was the hospital's policy to have two surgical rooms staffed and have an after-hours, on-call team.   Review of Policy and Procedure titled, \"STAFFING PATTERNS, SURGICAL SERVICES, REFERENCE #5014\" was as follows:  \" ...PURPOSE:  To establish staffing patterns for the Surgical Services Department.  POLICY:   The Surgical Services Department will be staffed for the operation of 2 rooms on Monday through Friday from 7 AM to 3 PM ...\"    Review of Policy and Procedure, Subject: On-Call Staffing; Reference #5105; Revised: 02/20/19; was as follows:  \"...PURPOSE:  The Surgical Services on-call team is comprised of an anesthesiologist, a registered nurse (Circulating RN) and an Operating Room Technician (Scrub Tech) or registered nurse with scrubbing experience.  All members of the on-call team should be in the hospital within 30 minutes of the time that they are called, under normal circumstances. (If the hospital does not have \"captured call\" where the on-call team stays in the hospital.)  PROCEDURE:  The Surgical Services Nurse Manager will compile a list each day with the names, phone numbers and beeper numbers of the staff on-call for that day....\"  \n",
      "\n"
     ]
    }
   ],
   "source": [
    "for i, text in enumerate(text_df.text.values):\n",
    "    print(i+1, text)\n",
    "    print()"
   ]
  },
  {
   "cell_type": "markdown",
   "metadata": {},
   "source": [
    "### ASIDE: Dictionary and testing Out of Vocab (OOV) words \n",
    "\n",
    "You don't need to do this section if you are tight for time, its just a good way to see what this model does differently from the BERT model we will show later. We can extract the vocab from the USE model, and see if words are available to us. This isn't a common thing people do, but a hack that we have made so one can investigation of the model's limitations. You don't need to understand what the code is doing, but rather the process.\n",
    "\n",
    "To do this we are going to use `importlib` and the tensorflow savedmodel loader. "
   ]
  },
  {
   "cell_type": "code",
   "execution_count": 48,
   "metadata": {
    "ExecuteTime": {
     "end_time": "2022-04-04T17:37:42.378782Z",
     "start_time": "2022-04-04T17:37:42.360182Z"
    }
   },
   "outputs": [],
   "source": [
    "import importlib"
   ]
  },
  {
   "cell_type": "markdown",
   "metadata": {},
   "source": [
    "We have to define the path to the model. This should be available if you have download the model in the steps above. If you don't get a path when running the cell below, you will have to go back and download."
   ]
  },
  {
   "cell_type": "code",
   "execution_count": 49,
   "metadata": {
    "ExecuteTime": {
     "end_time": "2022-04-04T17:37:42.387407Z",
     "start_time": "2022-04-04T17:37:42.379781Z"
    }
   },
   "outputs": [
    {
     "name": "stdout",
     "output_type": "stream",
     "text": [
      "C:\\Users\\muher\\AppData\\Local\\Temp\\tfhub_modules\\c9fe785512ca4a1b179831acb18a0c6bfba603dd\n"
     ]
    }
   ],
   "source": [
    "use_dir = hub.resolve(\"https://tfhub.dev/google/universal-sentence-encoder-large/5\")\n",
    "print(use_dir)"
   ]
  },
  {
   "cell_type": "markdown",
   "metadata": {},
   "source": [
    "First we load the model, and then we use extract the encodings from the graph (the model definition). We should have 200004 words in this."
   ]
  },
  {
   "cell_type": "code",
   "execution_count": 50,
   "metadata": {
    "ExecuteTime": {
     "end_time": "2022-04-04T17:37:42.713214Z",
     "start_time": "2022-04-04T17:37:42.387407Z"
    }
   },
   "outputs": [
    {
     "ename": "OSError",
     "evalue": "SavedModel file does not exist at: C:\\Users\\muher\\AppData\\Local\\Temp\\tfhub_modules\\c9fe785512ca4a1b179831acb18a0c6bfba603dd\\{saved_model.pbtxt|saved_model.pb}",
     "output_type": "error",
     "traceback": [
      "\u001b[1;31m---------------------------------------------------------------------------\u001b[0m",
      "\u001b[1;31mOSError\u001b[0m                                   Traceback (most recent call last)",
      "\u001b[1;32m~\\AppData\\Local\\Temp/ipykernel_5052/1504138215.py\u001b[0m in \u001b[0;36m<module>\u001b[1;34m\u001b[0m\n\u001b[0;32m      1\u001b[0m \u001b[0mloader_impl_large\u001b[0m \u001b[1;33m=\u001b[0m \u001b[0mimportlib\u001b[0m\u001b[1;33m.\u001b[0m\u001b[0mimport_module\u001b[0m\u001b[1;33m(\u001b[0m\u001b[1;34m'tensorflow.python.saved_model.loader_impl'\u001b[0m\u001b[1;33m)\u001b[0m\u001b[1;33m\u001b[0m\u001b[1;33m\u001b[0m\u001b[0m\n\u001b[1;32m----> 2\u001b[1;33m \u001b[0msaved_model_large\u001b[0m \u001b[1;33m=\u001b[0m \u001b[0mloader_impl_large\u001b[0m\u001b[1;33m.\u001b[0m\u001b[0mparse_saved_model\u001b[0m\u001b[1;33m(\u001b[0m\u001b[0mstr\u001b[0m\u001b[1;33m(\u001b[0m\u001b[0muse_dir\u001b[0m\u001b[1;33m)\u001b[0m\u001b[1;33m)\u001b[0m\u001b[1;33m\u001b[0m\u001b[1;33m\u001b[0m\u001b[0m\n\u001b[0m\u001b[0;32m      3\u001b[0m \u001b[1;33m\u001b[0m\u001b[0m\n\u001b[0;32m      4\u001b[0m \u001b[0mgraph_large\u001b[0m \u001b[1;33m=\u001b[0m \u001b[0msaved_model_large\u001b[0m\u001b[1;33m.\u001b[0m\u001b[0mmeta_graphs\u001b[0m\u001b[1;33m[\u001b[0m\u001b[1;36m0\u001b[0m\u001b[1;33m]\u001b[0m\u001b[1;33m.\u001b[0m\u001b[0mgraph_def\u001b[0m\u001b[1;33m\u001b[0m\u001b[1;33m\u001b[0m\u001b[0m\n\u001b[0;32m      5\u001b[0m \u001b[0mfunction_large\u001b[0m \u001b[1;33m=\u001b[0m \u001b[0mgraph_large\u001b[0m\u001b[1;33m.\u001b[0m\u001b[0mlibrary\u001b[0m\u001b[1;33m.\u001b[0m\u001b[0mfunction\u001b[0m\u001b[1;33m\u001b[0m\u001b[1;33m\u001b[0m\u001b[0m\n",
      "\u001b[1;32m~\\Anaconda3\\lib\\site-packages\\tensorflow\\python\\saved_model\\loader_impl.py\u001b[0m in \u001b[0;36mparse_saved_model\u001b[1;34m(export_dir)\u001b[0m\n\u001b[0;32m    113\u001b[0m       \u001b[1;32mraise\u001b[0m \u001b[0mIOError\u001b[0m\u001b[1;33m(\u001b[0m\u001b[1;34mf\"Cannot parse file {path_to_pbtxt}: {str(e)}.\"\u001b[0m\u001b[1;33m)\u001b[0m\u001b[1;33m\u001b[0m\u001b[1;33m\u001b[0m\u001b[0m\n\u001b[0;32m    114\u001b[0m   \u001b[1;32melse\u001b[0m\u001b[1;33m:\u001b[0m\u001b[1;33m\u001b[0m\u001b[1;33m\u001b[0m\u001b[0m\n\u001b[1;32m--> 115\u001b[1;33m     raise IOError(\n\u001b[0m\u001b[0;32m    116\u001b[0m         \u001b[1;34mf\"SavedModel file does not exist at: {export_dir}{os.path.sep}\"\u001b[0m\u001b[1;33m\u001b[0m\u001b[1;33m\u001b[0m\u001b[0m\n\u001b[0;32m    117\u001b[0m         \u001b[1;34mf\"{{{constants.SAVED_MODEL_FILENAME_PBTXT}|\"\u001b[0m\u001b[1;33m\u001b[0m\u001b[1;33m\u001b[0m\u001b[0m\n",
      "\u001b[1;31mOSError\u001b[0m: SavedModel file does not exist at: C:\\Users\\muher\\AppData\\Local\\Temp\\tfhub_modules\\c9fe785512ca4a1b179831acb18a0c6bfba603dd\\{saved_model.pbtxt|saved_model.pb}"
     ]
    }
   ],
   "source": [
    "loader_impl_large = importlib.import_module('tensorflow.python.saved_model.loader_impl')\n",
    "saved_model_large = loader_impl_large.parse_saved_model(str(use_dir))\n",
    "\n",
    "graph_large = saved_model_large.meta_graphs[0].graph_def\n",
    "function_large = graph_large.library.function\n",
    "\n",
    "node_type_large, node_value_large = function_large[0].node_def[0], function_large[0].node_def[1]\n",
    "words_tensor_large = node_value_large.attr.get(\"value\").tensor\n",
    "word_list_large = set([i.decode('utf-8') for i in words_tensor_large.string_val])\n",
    "print(\"Number of tokens is: {}\".format(len(word_list_large)))"
   ]
  },
  {
   "cell_type": "markdown",
   "metadata": {},
   "source": [
    "Lets test this, to see if we are getting this work work properly. We have a set which contains the vocab in `word_list_large`. Lets try `immunohematology` and `Map`."
   ]
  },
  {
   "cell_type": "code",
   "execution_count": 34,
   "metadata": {
    "ExecuteTime": {
     "end_time": "2022-04-04T17:37:42.727902Z",
     "start_time": "2022-04-04T17:37:42.715550Z"
    }
   },
   "outputs": [
    {
     "name": "stdout",
     "output_type": "stream",
     "text": [
      "Is the Test Word in the vocabulary? False\n"
     ]
    }
   ],
   "source": [
    "test_word = \"immunohematology\"\n",
    "print(\"Is the Test Word in the vocabulary? {}\".format(test_word in word_list_large))"
   ]
  },
  {
   "cell_type": "code",
   "execution_count": 35,
   "metadata": {
    "ExecuteTime": {
     "end_time": "2022-04-04T17:37:42.737646Z",
     "start_time": "2022-04-04T17:37:42.727902Z"
    }
   },
   "outputs": [
    {
     "name": "stdout",
     "output_type": "stream",
     "text": [
      "Is the Test Word in the vocabulary? True\n"
     ]
    }
   ],
   "source": [
    "test_word = \"map\"\n",
    "print(\"Is the Test Word in the vocabulary? {}\".format(test_word in word_list_large))"
   ]
  },
  {
   "cell_type": "markdown",
   "metadata": {},
   "source": [
    "Feel free to test some words you can think of in your own line of work. Just cange the test word above.\n",
    "\n",
    "If your test words aren't in there you might need to think about a different language model. However, its not always a big issue, and the pre training of the USE model is so good that often its better to stick with the model, rather than change because of a few fringe missing words."
   ]
  },
  {
   "cell_type": "markdown",
   "metadata": {},
   "source": [
    "# BERT\n",
    "\n",
    "BERT has really shaken things up in the NLP world. The abilty of BERT and other transformer models was a step change in how NLP practitioners could solve NLP problems. With [Huggingface]() it got a whole load easier. In this part of the notebook we are going to use BERT to do some embedding of the text phrases we had above. We are going to compare them to USE. What I want is for you to understand:\n",
    "1. How simple BERT is to use\n",
    "2. What the differences are between BERT and USE\n",
    "3. The strengths and weaknesses of the BERT method of embeddings.\n",
    "\n",
    "Two things to note. This is just a stepping stone and not a full immersion. Firstly, while you might have gone through this and will hopefully have understood a little more about this, to actually apply these models in practice takes much more learning - and hopefully the bar has been lowered to start doing that.\n",
    "\n",
    "Secondly, sadly this notebook is too short to do a good explaination of Transformers, and specifically BERT. However I can really recommend [Jay Alammar's](https://jalammar.github.io/illustrated-bert/) blog posts on how transformers and BERT work. Clearly only if you are interested.\n",
    "\n",
    "## Tokenization\n",
    "For the USE model, you didn't need to think about tokenization. If you did the little extra vocab excercise and reading, then you would have see that it is word by word. If the word isn't in the dictionary that USE has, then you simply have an out of vocab word. BERT is different, and we will need to tokenize the word first, before putting it into the model. Tokenization is simply converting the word into a series of numbers.\n",
    "\n",
    "BERT is different from USE in that it splits the word down into small parts. This means that a word like `immunohematology` could potentially be split into `im`, `##mu`, `##no`, `##hem`, `##ato`, `##logy`. The double hash means it has a part of a word before it. This means that there are rarely any out of vocab words, and and even mispellings are often represented too.\n",
    "\n",
    "So lets start by importing the `BertTokenizer`, `BertModel` from Huggingface's `transformer` library, along with `torch` which is Pytorch."
   ]
  },
  {
   "cell_type": "code",
   "execution_count": 21,
   "metadata": {
    "ExecuteTime": {
     "end_time": "2022-04-04T18:10:12.121857Z",
     "start_time": "2022-04-04T18:10:07.399368Z"
    }
   },
   "outputs": [],
   "source": [
    "from transformers import BertTokenizer, BertModel\n",
    "import torch"
   ]
  },
  {
   "cell_type": "markdown",
   "metadata": {},
   "source": [
    "To intialize the tokenizer, we are simply going to create a `BertTokenizer` object, and use the `from_pretrained` method, where we specify the model type. In this case it is `bert-base-uncased`, but there are a whole host of options for us, including different langagues, and training methods."
   ]
  },
  {
   "cell_type": "code",
   "execution_count": 22,
   "metadata": {
    "ExecuteTime": {
     "end_time": "2022-04-04T18:10:31.748231Z",
     "start_time": "2022-04-04T18:10:29.852721Z"
    }
   },
   "outputs": [],
   "source": [
    "tokenizer = BertTokenizer.from_pretrained(\"bert-base-uncased\")"
   ]
  },
  {
   "cell_type": "markdown",
   "metadata": {},
   "source": [
    "Why don't we begin by encoding the word `immunohematology` that was out of dictionary before. "
   ]
  },
  {
   "cell_type": "code",
   "execution_count": 23,
   "metadata": {
    "ExecuteTime": {
     "end_time": "2022-04-04T18:10:31.756213Z",
     "start_time": "2022-04-04T18:10:31.751225Z"
    }
   },
   "outputs": [],
   "source": [
    "encoded_input = tokenizer([\"immunohematology\"], return_tensors='pt')"
   ]
  },
  {
   "cell_type": "code",
   "execution_count": 24,
   "metadata": {
    "ExecuteTime": {
     "end_time": "2022-04-04T18:10:31.775239Z",
     "start_time": "2022-04-04T18:10:31.758394Z"
    }
   },
   "outputs": [
    {
     "data": {
      "text/plain": [
       "{'input_ids': tensor([[  101, 10047, 23041, 11631, 14545, 23479,   102]]), 'token_type_ids': tensor([[0, 0, 0, 0, 0, 0, 0]]), 'attention_mask': tensor([[1, 1, 1, 1, 1, 1, 1]])}"
      ]
     },
     "execution_count": 24,
     "metadata": {},
     "output_type": "execute_result"
    }
   ],
   "source": [
    "encoded_input"
   ]
  },
  {
   "cell_type": "markdown",
   "metadata": {},
   "source": [
    "What we have is a series of token id's called `input_ids`. These are `101`, `10047`, `23041`, `11631`, `14545`, `23479`, `102`. We can actually convert them back to see how the tokenizer has broken the word down. We also have `token_type_ids` and also the `attention mask`. At this stage you don't need to know what these last two are. If you are interested read the Jay Alammar blog entry."
   ]
  },
  {
   "cell_type": "code",
   "execution_count": 25,
   "metadata": {
    "ExecuteTime": {
     "end_time": "2022-04-04T18:10:31.786690Z",
     "start_time": "2022-04-04T18:10:31.775239Z"
    }
   },
   "outputs": [
    {
     "data": {
      "text/plain": [
       "[101, 10047, 23041, 11631, 14545, 23479, 102]"
      ]
     },
     "execution_count": 25,
     "metadata": {},
     "output_type": "execute_result"
    }
   ],
   "source": [
    "encoded_input['input_ids'][0].tolist()"
   ]
  },
  {
   "cell_type": "code",
   "execution_count": 26,
   "metadata": {
    "ExecuteTime": {
     "end_time": "2022-04-04T18:10:31.796080Z",
     "start_time": "2022-04-04T18:10:31.786690Z"
    }
   },
   "outputs": [
    {
     "name": "stdout",
     "output_type": "stream",
     "text": [
      "  ID   |  Word\n",
      "------------------\n",
      "  101  |  [CLS]\n",
      "10047  |  im\n",
      "23041  |  ##mun\n",
      "11631  |  ##oh\n",
      "14545  |  ##ema\n",
      "23479  |  ##tology\n",
      "  102  |  [SEP]\n"
     ]
    }
   ],
   "source": [
    "print(\"  ID   |  Word\")\n",
    "print(\"------------------\")\n",
    "for wordpiece_id in encoded_input['input_ids'][0].tolist():\n",
    "    print(f\"{wordpiece_id:>5}  |  {tokenizer.decode([wordpiece_id])}\")"
   ]
  },
  {
   "cell_type": "markdown",
   "metadata": {},
   "source": [
    "Okay, so it would seem up above that I guessed wrong in how to split up the word. You will also see that we have two more things. These are the `[CLS]` and `[SEP]` tokens. These are used to show the model where the input text starts and finishes. For classifier models, people also use the `[CLS]` token output at the end of the as the input to the classifier.  \n",
    "\n",
    "Now we have done the tokenization, we can move on to Model part.\n",
    "\n",
    "### Model\n",
    "\n",
    "The model takes the same form as the tokenizer. We initate the class from `BertModel`, and use the `from_pretrained` method to initate the model type. This much match the tokenizer. Note, there might be a warning that comes up. This is relivant in some cases, but not for what we are doing here."
   ]
  },
  {
   "cell_type": "code",
   "execution_count": 23,
   "metadata": {
    "ExecuteTime": {
     "end_time": "2022-04-04T18:11:04.114249Z",
     "start_time": "2022-04-04T18:10:32.137999Z"
    }
   },
   "outputs": [
    {
     "name": "stderr",
     "output_type": "stream",
     "text": [
      "Some weights of the model checkpoint at bert-base-uncased were not used when initializing BertModel: ['cls.predictions.transform.dense.weight', 'cls.predictions.transform.dense.bias', 'cls.seq_relationship.weight', 'cls.predictions.transform.LayerNorm.bias', 'cls.seq_relationship.bias', 'cls.predictions.decoder.weight', 'cls.predictions.transform.LayerNorm.weight', 'cls.predictions.bias']\n",
      "- This IS expected if you are initializing BertModel from the checkpoint of a model trained on another task or with another architecture (e.g. initializing a BertForSequenceClassification model from a BertForPreTraining model).\n",
      "- This IS NOT expected if you are initializing BertModel from the checkpoint of a model that you expect to be exactly identical (initializing a BertForSequenceClassification model from a BertForSequenceClassification model).\n"
     ]
    }
   ],
   "source": [
    "model = BertModel.from_pretrained(\"bert-base-uncased\")"
   ]
  },
  {
   "cell_type": "markdown",
   "metadata": {},
   "source": [
    "Next step is to feed the encoded input we had above to actually get an embedding. Lets feed it in, and see what we get."
   ]
  },
  {
   "cell_type": "code",
   "execution_count": 43,
   "metadata": {
    "ExecuteTime": {
     "end_time": "2022-04-04T18:11:04.233170Z",
     "start_time": "2022-04-04T18:11:04.117383Z"
    }
   },
   "outputs": [
    {
     "data": {
      "text/plain": [
       "BaseModelOutputWithPoolingAndCrossAttentions(last_hidden_state=tensor([[[-0.2544,  0.1489, -0.7462,  ..., -0.2763,  0.2617,  0.6499],\n",
       "         [-0.4337, -0.0894, -0.0847,  ..., -0.2189, -0.3531,  0.2842],\n",
       "         [ 0.3402,  0.4620, -0.5363,  ..., -0.3578, -0.3536, -0.2290],\n",
       "         ...,\n",
       "         [ 0.4687, -0.0721,  0.2421,  ...,  0.2120, -0.0785,  0.6137],\n",
       "         [ 0.0833, -0.2430, -1.1728,  ..., -0.2393, -0.1419, -0.3016],\n",
       "         [ 0.7307,  0.0207, -0.3941,  ...,  0.0991, -0.5774, -0.1149]]],\n",
       "       grad_fn=<NativeLayerNormBackward0>), pooler_output=tensor([[-9.5228e-01, -6.3588e-01, -9.5724e-01,  8.7467e-01,  8.7168e-01,\n",
       "         -4.3335e-01,  9.0874e-01,  3.9656e-01, -9.1047e-01, -1.0000e+00,\n",
       "         -8.4032e-01,  9.8704e-01,  9.7915e-01,  6.9200e-01,  8.9423e-01,\n",
       "         -9.0460e-01, -7.3887e-01, -7.2736e-01,  4.7684e-01, -3.4608e-01,\n",
       "          7.9970e-01,  1.0000e+00, -4.8047e-01,  4.8356e-01,  6.2863e-01,\n",
       "          9.9707e-01, -8.8253e-01,  8.9184e-01,  9.5383e-01,  8.1653e-01,\n",
       "         -7.5696e-01,  5.2639e-01, -9.9293e-01, -3.6475e-01, -9.6635e-01,\n",
       "         -9.9406e-01,  6.6837e-01, -8.4965e-01, -2.6844e-01, -1.0392e-01,\n",
       "         -8.7357e-01,  6.1206e-01,  1.0000e+00,  1.7744e-02,  7.0584e-01,\n",
       "         -4.2831e-01, -1.0000e+00,  4.2515e-01, -8.9519e-01,  9.7639e-01,\n",
       "          9.5342e-01,  9.1895e-01,  3.7706e-01,  7.0957e-01,  6.1085e-01,\n",
       "         -7.1007e-01,  1.9970e-01,  2.9835e-01, -4.1741e-01, -6.7185e-01,\n",
       "         -6.8939e-01,  6.7037e-01, -9.4833e-01, -9.3679e-01,  9.7113e-01,\n",
       "          8.1002e-01, -4.7740e-01, -6.4951e-01, -2.5613e-01,  4.6172e-02,\n",
       "          8.9140e-01,  3.7371e-01, -1.4636e-01, -8.2830e-01,  8.2228e-01,\n",
       "          4.1444e-01, -6.6998e-01,  1.0000e+00, -8.4734e-01, -9.8224e-01,\n",
       "          9.4393e-01,  8.6000e-01,  6.9089e-01, -4.8708e-01,  6.9628e-01,\n",
       "         -1.0000e+00,  6.8183e-01, -4.2619e-01, -9.9118e-01,  4.2227e-01,\n",
       "          7.9597e-01, -4.4411e-01,  5.5047e-01,  6.6493e-01, -7.5904e-01,\n",
       "         -6.2604e-01, -5.5934e-01, -9.2580e-01, -5.1298e-01, -6.6205e-01,\n",
       "          1.8824e-01, -4.5823e-01, -5.7390e-01, -5.1664e-01,  5.4111e-01,\n",
       "         -7.0880e-01, -5.6369e-01,  6.0620e-01,  5.3498e-01,  7.1486e-01,\n",
       "          5.0461e-01, -5.2525e-01,  6.1107e-01, -9.6369e-01,  7.4487e-01,\n",
       "         -5.7302e-01, -9.9097e-01, -6.7214e-01, -9.9014e-01,  8.3832e-01,\n",
       "         -4.6149e-01, -4.2362e-01,  9.4534e-01, -3.2438e-01,  6.2035e-01,\n",
       "         -3.4945e-01, -9.7210e-01, -1.0000e+00, -9.0070e-01, -8.0498e-01,\n",
       "         -3.8313e-01, -4.3333e-01, -9.8425e-01, -9.5409e-01,  8.0284e-01,\n",
       "          9.4402e-01,  4.7043e-01,  9.9998e-01, -5.2528e-01,  9.3373e-01,\n",
       "         -5.3485e-01, -8.9881e-01,  8.2861e-01, -4.3754e-01,  8.7685e-01,\n",
       "          6.0088e-01, -6.3612e-01,  5.0640e-01, -7.7886e-01,  6.1705e-01,\n",
       "         -8.3035e-01, -5.5180e-01, -8.7328e-01, -9.2057e-01, -4.1974e-01,\n",
       "          9.5924e-01, -6.6439e-01, -9.5473e-01, -4.5051e-01, -6.0303e-01,\n",
       "         -6.8682e-01,  8.5622e-01,  8.2582e-01,  6.1162e-01, -6.4864e-01,\n",
       "          6.2152e-01,  6.3208e-01,  6.6636e-01, -8.6547e-01, -3.6805e-01,\n",
       "          6.1439e-01, -6.4853e-01, -8.3870e-01, -9.8012e-01, -6.3657e-01,\n",
       "          7.1683e-01,  9.9000e-01,  7.7129e-01,  4.8894e-01,  8.9412e-01,\n",
       "         -6.0511e-01,  8.4986e-01, -9.7374e-01,  9.8123e-01, -4.1413e-01,\n",
       "          3.4166e-01, -4.9556e-01,  4.0610e-01, -9.4177e-01,  1.3645e-01,\n",
       "          9.1107e-01, -8.3413e-01, -8.8888e-01, -2.5362e-01, -6.2583e-01,\n",
       "         -6.1563e-01, -9.1088e-01,  7.7061e-01, -4.7173e-01, -4.7412e-01,\n",
       "         -1.5562e-01,  9.1173e-01,  9.8443e-01,  8.4531e-01,  4.9422e-01,\n",
       "          7.8558e-01, -9.1637e-01, -4.8924e-01,  4.2928e-01,  4.5573e-01,\n",
       "          3.2574e-01,  9.9520e-01, -8.4289e-01, -4.0713e-01, -9.0592e-01,\n",
       "         -9.8082e-01,  2.3102e-01, -8.7231e-01, -3.9691e-01, -7.8804e-01,\n",
       "          6.9947e-01, -6.0122e-01,  6.4088e-01,  6.4232e-01, -9.5514e-01,\n",
       "         -6.7393e-01,  6.0982e-01, -6.1382e-01,  5.7665e-01, -5.0544e-01,\n",
       "          8.7659e-01,  9.6060e-01, -7.3326e-01,  7.5579e-01,  9.3276e-01,\n",
       "         -9.5227e-01, -8.3717e-01,  6.8928e-01, -4.0191e-01,  9.2206e-01,\n",
       "         -7.8805e-01,  9.9775e-01,  9.7446e-01,  8.8034e-01, -9.1848e-01,\n",
       "         -8.1896e-01, -9.4578e-01, -8.1205e-01, -5.6757e-01,  2.7007e-01,\n",
       "          9.6168e-01,  7.0700e-01,  6.8347e-01, -2.3644e-02, -7.9693e-01,\n",
       "          9.9852e-01, -8.6655e-01, -9.7026e-01, -6.5357e-01, -3.1012e-01,\n",
       "         -9.8682e-01,  9.1267e-01,  5.5090e-01,  9.1486e-01, -6.1849e-01,\n",
       "         -8.1061e-01, -9.5277e-01,  9.2018e-01,  4.1621e-01,  9.8367e-01,\n",
       "         -5.7959e-01, -9.6504e-01, -7.6094e-01, -9.3809e-01,  1.4601e-01,\n",
       "         -2.6819e-01, -6.5412e-01,  1.1074e-04, -9.2570e-01,  6.6401e-01,\n",
       "          7.4499e-01,  6.6930e-01, -8.1942e-01,  9.9908e-01,  1.0000e+00,\n",
       "          9.7967e-01,  8.9676e-01,  8.9320e-01, -9.9998e-01, -8.1237e-01,\n",
       "          1.0000e+00, -9.9811e-01, -1.0000e+00, -9.3824e-01, -8.9523e-01,\n",
       "          5.4217e-01, -1.0000e+00, -2.4222e-01, -3.4826e-01, -9.2353e-01,\n",
       "          8.3918e-01,  9.7147e-01,  9.9440e-01, -1.0000e+00,  9.4330e-01,\n",
       "          9.3703e-01, -7.6541e-01,  9.8466e-01, -6.7406e-01,  9.6881e-01,\n",
       "          5.7174e-01,  8.3347e-01, -3.4652e-01,  6.2854e-01, -9.8124e-01,\n",
       "         -9.4603e-01, -6.6747e-01, -8.4253e-01,  9.9971e-01,  5.0766e-01,\n",
       "         -8.5320e-01, -8.9869e-01,  7.8482e-01, -3.7574e-01,  1.9651e-01,\n",
       "         -9.6103e-01, -5.2017e-01,  6.2925e-01,  8.5794e-01,  2.9128e-01,\n",
       "          4.7750e-01, -7.2391e-01,  6.3902e-01,  1.7136e-01,  5.0583e-01,\n",
       "          7.1085e-01, -9.3029e-01, -5.8740e-01, -3.2033e-01,  4.2714e-01,\n",
       "         -7.0985e-01, -9.6823e-01,  9.8277e-01, -4.6328e-01,  9.6296e-01,\n",
       "          1.0000e+00,  6.3631e-01, -9.0269e-01,  8.3309e-01,  4.5024e-01,\n",
       "         -5.7535e-01,  1.0000e+00,  9.3986e-01, -9.7898e-01, -5.9702e-01,\n",
       "          7.5292e-01, -7.8778e-01, -7.7719e-01,  9.9986e-01, -4.5677e-01,\n",
       "         -8.4707e-01, -7.6024e-01,  9.8911e-01, -9.8927e-01,  9.9872e-01,\n",
       "         -9.3574e-01, -9.6375e-01,  9.7124e-01,  9.1155e-01, -7.7964e-01,\n",
       "         -8.8251e-01,  2.9665e-01, -8.0444e-01,  4.9002e-01, -9.4059e-01,\n",
       "          8.6432e-01,  6.7832e-01, -2.8763e-01,  9.0785e-01, -9.2179e-01,\n",
       "         -6.6690e-01,  5.4869e-01, -7.8694e-01, -5.4761e-01,  9.6327e-01,\n",
       "          5.9255e-01, -5.8352e-01,  2.6904e-01, -5.7738e-01, -6.3719e-01,\n",
       "         -9.7053e-01,  8.2675e-01,  1.0000e+00, -5.7474e-01,  8.6164e-01,\n",
       "         -6.1443e-01, -2.7843e-01,  1.5112e-01,  6.7979e-01,  7.1509e-01,\n",
       "         -5.2090e-01, -8.6674e-01,  8.2111e-01, -9.2143e-01, -9.8470e-01,\n",
       "          6.7690e-01,  4.0495e-01, -3.9093e-01,  1.0000e+00,  5.9149e-01,\n",
       "          4.1694e-01,  5.4582e-01,  9.9427e-01,  2.7069e-01,  7.4956e-01,\n",
       "          9.4568e-01,  9.8575e-01, -5.6056e-01,  7.4713e-01,  8.9600e-01,\n",
       "         -9.6696e-01, -4.3359e-01, -7.6365e-01,  2.1561e-01, -9.2336e-01,\n",
       "         -2.3638e-01, -9.7268e-01,  9.6783e-01,  9.7372e-01,  5.1225e-01,\n",
       "          3.7284e-01,  8.1949e-01,  1.0000e+00, -8.7008e-01,  7.3930e-01,\n",
       "         -6.1464e-01,  8.3644e-01, -9.9995e-01, -6.8154e-01, -6.5336e-01,\n",
       "         -3.6837e-01, -9.2454e-01, -5.0079e-01,  4.8025e-01, -9.8392e-01,\n",
       "          9.3403e-01,  7.2150e-01, -9.8357e-01, -9.8558e-01, -5.4308e-01,\n",
       "          9.0563e-01,  1.8726e-01, -9.9537e-01, -8.7378e-01, -7.7173e-01,\n",
       "          8.9873e-01, -5.4235e-01, -9.4171e-01, -5.4342e-01, -6.1456e-01,\n",
       "          5.6223e-01, -5.6290e-01,  6.2645e-01,  9.1806e-01,  5.6124e-01,\n",
       "         -9.5026e-01, -7.8035e-01, -3.5405e-01, -8.8913e-01,  9.1330e-01,\n",
       "         -8.6135e-01, -9.6800e-01, -4.4286e-01,  1.0000e+00, -5.4811e-01,\n",
       "          9.4302e-01,  7.4814e-01,  7.4938e-01, -3.5812e-01,  3.8200e-01,\n",
       "          9.3547e-01,  4.7970e-01, -7.8836e-01, -9.3350e-01, -6.9115e-01,\n",
       "         -5.4561e-01,  8.2532e-01,  8.1942e-01,  7.7823e-01,  8.3625e-01,\n",
       "          9.3118e-01,  5.0446e-01, -2.3658e-01,  2.8024e-01,  9.9977e-01,\n",
       "         -4.9941e-01, -4.1265e-01, -5.7656e-01, -3.6398e-01, -6.4591e-01,\n",
       "         -7.1357e-01,  1.0000e+00,  4.6228e-01,  6.4523e-01, -9.8989e-01,\n",
       "         -9.3876e-01, -9.3186e-01,  1.0000e+00,  8.2906e-01, -9.0158e-01,\n",
       "          7.4792e-01,  7.3156e-01, -3.7269e-01,  8.7211e-01, -4.9807e-01,\n",
       "         -4.7689e-01,  4.4294e-01,  3.5430e-01,  9.5683e-01, -6.2491e-01,\n",
       "         -9.7681e-01, -7.1988e-01,  6.1027e-01, -9.6095e-01,  9.9999e-01,\n",
       "         -8.2029e-01, -2.9507e-01, -6.1574e-01, -7.7976e-01,  5.0494e-01,\n",
       "          1.7713e-01, -9.7300e-01, -4.3247e-01,  5.1518e-01,  9.7131e-01,\n",
       "          4.5895e-01, -7.0963e-01, -9.1400e-01,  9.0235e-01,  9.3919e-01,\n",
       "         -9.5784e-01, -8.9514e-01,  9.6659e-01, -9.6507e-01,  7.5538e-01,\n",
       "          1.0000e+00,  5.3706e-01,  7.5548e-01,  5.7496e-01, -6.4953e-01,\n",
       "          4.9930e-01, -7.5231e-01,  7.7169e-01, -9.4445e-01, -5.2254e-01,\n",
       "         -4.1851e-01,  5.3336e-01, -4.5261e-01, -8.6110e-01,  7.3834e-01,\n",
       "          2.3683e-01, -6.7889e-01, -7.7912e-01, -2.7048e-01,  6.8759e-01,\n",
       "          8.8009e-01, -4.5953e-01, -4.5392e-01,  4.1153e-01, -3.7337e-01,\n",
       "         -9.0227e-01, -5.6519e-01, -5.9453e-01, -1.0000e+00,  7.6953e-01,\n",
       "         -1.0000e+00,  8.4970e-01,  4.0598e-01, -3.3000e-01,  8.8123e-01,\n",
       "          7.8274e-01,  6.7300e-01, -7.8237e-01, -9.5115e-01, -5.4591e-02,\n",
       "          7.3202e-01, -5.8361e-01, -8.0019e-01, -7.1994e-01,  6.0776e-01,\n",
       "         -2.8028e-01,  3.0371e-01, -6.9866e-01,  7.3576e-01, -4.4453e-01,\n",
       "          1.0000e+00,  4.6660e-01, -8.9107e-01, -9.6350e-01,  4.1345e-01,\n",
       "         -5.0550e-01,  1.0000e+00, -9.1176e-01, -9.6672e-01,  4.9458e-01,\n",
       "         -8.5105e-01, -8.0034e-01,  6.0005e-01,  3.3118e-01, -9.0641e-01,\n",
       "         -9.8142e-01,  9.0966e-01,  9.4840e-01, -6.7347e-01,  7.4057e-01,\n",
       "         -5.0398e-01, -7.1536e-01,  3.3141e-01,  9.4580e-01,  9.8679e-01,\n",
       "          6.3432e-01,  9.4665e-01, -5.1644e-01,  3.5708e-02,  9.3728e-01,\n",
       "          4.9811e-01,  6.7937e-01,  3.7972e-01,  1.0000e+00,  6.8535e-01,\n",
       "         -9.4420e-01, -4.4682e-01, -9.7024e-01, -4.4432e-01, -9.7496e-01,\n",
       "          4.7906e-01,  5.3712e-01,  9.2450e-01, -4.6625e-01,  9.5760e-01,\n",
       "         -9.3346e-01,  2.1482e-01, -8.4311e-01, -7.7382e-01,  5.4873e-01,\n",
       "         -9.4376e-01, -9.8482e-01, -9.8595e-01,  7.5910e-01, -5.9017e-01,\n",
       "         -3.5683e-01,  3.8950e-01,  3.6245e-01,  6.8088e-01,  6.2601e-01,\n",
       "         -1.0000e+00,  9.5092e-01,  6.0412e-01,  9.5906e-01,  9.7826e-01,\n",
       "          8.6568e-01,  7.0714e-01,  4.6285e-01, -9.9018e-01, -9.4975e-01,\n",
       "         -5.8392e-01, -5.3306e-01,  7.8297e-01,  8.3987e-01,  8.3654e-01,\n",
       "          7.1691e-01, -5.8634e-01, -6.1787e-01, -7.4884e-01, -8.7330e-01,\n",
       "         -9.9198e-01,  6.3114e-01, -7.4075e-01, -9.7601e-01,  9.7062e-01,\n",
       "         -1.3096e-01, -2.3881e-01, -1.6320e-01, -9.2270e-01,  9.0216e-01,\n",
       "          9.2311e-01,  5.0672e-01,  2.7666e-01,  7.0261e-01,  9.2179e-01,\n",
       "          9.6840e-01,  9.8722e-01, -9.2397e-01,  8.6978e-01, -8.5757e-01,\n",
       "          6.2514e-01,  8.4193e-01, -9.6691e-01,  4.1324e-01,  7.8869e-01,\n",
       "         -4.9450e-01,  5.2455e-01, -5.1936e-01, -9.4090e-01,  8.2259e-01,\n",
       "         -3.4947e-01,  8.4536e-01, -4.8512e-01, -1.1891e-01, -6.3107e-01,\n",
       "         -2.6040e-01, -8.3361e-01, -7.9527e-01,  6.6970e-01,  7.3204e-01,\n",
       "          9.3427e-01,  9.3574e-01, -2.5686e-01, -8.2263e-01, -4.4495e-01,\n",
       "         -8.8429e-01, -9.3919e-01,  9.1972e-01, -3.5125e-01, -5.2722e-01,\n",
       "          9.1520e-01,  3.6736e-01,  9.1640e-01,  6.1245e-01, -5.6619e-01,\n",
       "         -5.7673e-01, -8.9690e-01,  8.7017e-01, -8.3404e-01, -7.7621e-01,\n",
       "         -7.6373e-01,  8.8216e-01,  5.5350e-01,  1.0000e+00, -9.2069e-01,\n",
       "         -9.5780e-01, -6.6448e-01, -5.1875e-01,  6.2888e-01, -6.8406e-01,\n",
       "         -1.0000e+00,  5.8184e-01, -6.5081e-01,  7.5614e-01, -8.9100e-01,\n",
       "          9.2358e-01, -8.9357e-01, -9.8445e-01, -6.2151e-01,  7.7916e-01,\n",
       "          8.5422e-01, -7.1572e-01, -8.1247e-01,  6.4499e-01, -4.6211e-01,\n",
       "          9.9239e-01,  8.6244e-01, -8.6824e-01, -2.3695e-01,  7.4536e-01,\n",
       "         -9.2953e-01, -7.7346e-01,  9.1932e-01]], grad_fn=<TanhBackward0>), hidden_states=None, past_key_values=None, attentions=None, cross_attentions=None)"
      ]
     },
     "execution_count": 43,
     "metadata": {},
     "output_type": "execute_result"
    }
   ],
   "source": [
    "output = model(**encoded_input)\n",
    "output"
   ]
  },
  {
   "cell_type": "markdown",
   "metadata": {},
   "source": [
    "Okay, so we get two things, namely `last_hidden_state`, and `pooler_output`. By looking at the shapes we get a good impression of what they both are."
   ]
  },
  {
   "cell_type": "code",
   "execution_count": 44,
   "metadata": {
    "ExecuteTime": {
     "end_time": "2022-04-04T18:11:04.249128Z",
     "start_time": "2022-04-04T18:11:04.235164Z"
    }
   },
   "outputs": [
    {
     "data": {
      "text/plain": [
       "torch.Size([1, 7, 768])"
      ]
     },
     "execution_count": 44,
     "metadata": {},
     "output_type": "execute_result"
    }
   ],
   "source": [
    "output[\"last_hidden_state\"].shape"
   ]
  },
  {
   "cell_type": "code",
   "execution_count": 45,
   "metadata": {
    "ExecuteTime": {
     "end_time": "2022-04-04T18:11:04.268277Z",
     "start_time": "2022-04-04T18:11:04.252582Z"
    }
   },
   "outputs": [
    {
     "data": {
      "text/plain": [
       "torch.Size([1, 768])"
      ]
     },
     "execution_count": 45,
     "metadata": {},
     "output_type": "execute_result"
    }
   ],
   "source": [
    "output[\"pooler_output\"].shape"
   ]
  },
  {
   "cell_type": "markdown",
   "metadata": {},
   "source": [
    "The `last_hidden_state` is the embedding of each wordpiece - if you look back you will see that there are 7 word pieces in `immunohematology`, In this case we can use `[CLS]`, i.e. the first token, as a representation of the text we have inputted.\n",
    "\n",
    "Conversly `pooler_output` is all those embeddings pooled together, so we are left with just one vector, and that is the embedding of the text.\n",
    "\n",
    "Lets see both those as embeddings for the sentences we have tested on the USE model previously."
   ]
  },
  {
   "cell_type": "code",
   "execution_count": 24,
   "metadata": {
    "ExecuteTime": {
     "end_time": "2022-04-04T18:22:09.711228Z",
     "start_time": "2022-04-04T18:22:09.695271Z"
    }
   },
   "outputs": [],
   "source": [
    "# slice CMS_complaints to fit BERT word count of 512 \n",
    "txt_short = [i[0:512] for i in text_df.text]"
   ]
  },
  {
   "cell_type": "code",
   "execution_count": 25,
   "metadata": {
    "ExecuteTime": {
     "end_time": "2022-04-04T18:22:19.631958Z",
     "start_time": "2022-04-04T18:22:19.584438Z"
    }
   },
   "outputs": [],
   "source": [
    "# bert_encoded_input = tokenizer(text_df.text.to_list(), padding=True, return_tensors='pt')\n",
    "\n",
    "# pass in shortened list of complaint text\n",
    "bert_encoded_input = tokenizer(txt_short, padding=True, return_tensors='pt')"
   ]
  },
  {
   "cell_type": "code",
   "execution_count": 26,
   "metadata": {
    "ExecuteTime": {
     "end_time": "2022-04-04T18:22:23.583638Z",
     "start_time": "2022-04-04T18:22:20.181136Z"
    }
   },
   "outputs": [
    {
     "data": {
      "text/plain": [
       "(15, 768)"
      ]
     },
     "execution_count": 26,
     "metadata": {},
     "output_type": "execute_result"
    }
   ],
   "source": [
    "bert_pooled_array = model(**bert_encoded_input)[\"pooler_output\"].detach().numpy()\n",
    "bert_pooled_array.shape"
   ]
  },
  {
   "cell_type": "code",
   "execution_count": 27,
   "metadata": {
    "ExecuteTime": {
     "end_time": "2022-04-04T18:22:23.611557Z",
     "start_time": "2022-04-04T18:22:23.587627Z"
    }
   },
   "outputs": [
    {
     "data": {
      "text/plain": [
       "array([[0.        , 5.26906109, 5.68951321],\n",
       "       [5.26906109, 0.        , 4.8199954 ],\n",
       "       [5.68951321, 4.8199954 , 0.        ]])"
      ]
     },
     "execution_count": 27,
     "metadata": {},
     "output_type": "execute_result"
    }
   ],
   "source": [
    "bert_pooled_dm = pairwise_dists(bert_pooled_array)\n",
    "bert_pooled_dm[:3,:3]"
   ]
  },
  {
   "cell_type": "code",
   "execution_count": 28,
   "metadata": {
    "ExecuteTime": {
     "end_time": "2022-04-04T18:22:27.294174Z",
     "start_time": "2022-04-04T18:22:23.614527Z"
    }
   },
   "outputs": [],
   "source": [
    "bert_cls_array = model(**bert_encoded_input)[\"last_hidden_state\"].detach().numpy()[:,0,:]\n",
    "bert_cls_dm = pairwise_dists(bert_cls_array)"
   ]
  },
  {
   "cell_type": "markdown",
   "metadata": {},
   "source": [
    "Okay, so with those two distance matricies made, lets looks at the heatmaps. Firstly with `pooled`, and then with `CLS`"
   ]
  },
  {
   "cell_type": "code",
   "execution_count": 29,
   "metadata": {
    "ExecuteTime": {
     "end_time": "2022-04-04T18:30:03.177946Z",
     "start_time": "2022-04-04T18:30:02.850260Z"
    }
   },
   "outputs": [
    {
     "data": {
      "image/png": "[encoded data removed]",
      "text/plain": [
       "<Figure size 1296x576 with 2 Axes>"
      ]
     },
     "metadata": {
      "needs_background": "light"
     },
     "output_type": "display_data"
    }
   ],
   "source": [
    "dist_heatmap(bert_pooled_dm, range(0, len(text_df.text)))"
   ]
  },
  {
   "cell_type": "code",
   "execution_count": 30,
   "metadata": {
    "ExecuteTime": {
     "end_time": "2022-04-04T18:30:05.628300Z",
     "start_time": "2022-04-04T18:30:05.342527Z"
    }
   },
   "outputs": [
    {
     "data": {
      "image/png": "[encoded data removed]",
      "text/plain": [
       "<Figure size 1296x576 with 2 Axes>"
      ]
     },
     "metadata": {
      "needs_background": "light"
     },
     "output_type": "display_data"
    }
   ],
   "source": [
    "dist_heatmap(bert_cls_dm, range(0, len(text_df.text)))"
   ]
  },
  {
   "cell_type": "markdown",
   "metadata": {},
   "source": [
    "In this case I would argue that `pooled` has performed worse that with `CLS`. This is mainly because we are seeing a differences between those first three sentences and the longer one from the road rules. If I plot the USE model results again below, you can see that the `CLS` has the that light line running down and across that the USE model has too."
   ]
  },
  {
   "cell_type": "code",
   "execution_count": 31,
   "metadata": {
    "ExecuteTime": {
     "end_time": "2022-04-04T18:30:09.163004Z",
     "start_time": "2022-04-04T18:30:08.902178Z"
    }
   },
   "outputs": [
    {
     "ename": "NameError",
     "evalue": "name 'use_dm' is not defined",
     "output_type": "error",
     "traceback": [
      "\u001b[1;31m---------------------------------------------------------------------------\u001b[0m",
      "\u001b[1;31mNameError\u001b[0m                                 Traceback (most recent call last)",
      "\u001b[1;32m~\\AppData\\Local\\Temp/ipykernel_18752/1611331985.py\u001b[0m in \u001b[0;36m<module>\u001b[1;34m\u001b[0m\n\u001b[1;32m----> 1\u001b[1;33m \u001b[0mdist_heatmap\u001b[0m\u001b[1;33m(\u001b[0m\u001b[0muse_dm\u001b[0m\u001b[1;33m,\u001b[0m \u001b[0mrange\u001b[0m\u001b[1;33m(\u001b[0m\u001b[1;36m0\u001b[0m\u001b[1;33m,\u001b[0m \u001b[0mlen\u001b[0m\u001b[1;33m(\u001b[0m\u001b[0mtext_df\u001b[0m\u001b[1;33m.\u001b[0m\u001b[0mtext\u001b[0m\u001b[1;33m)\u001b[0m\u001b[1;33m)\u001b[0m\u001b[1;33m)\u001b[0m\u001b[1;33m\u001b[0m\u001b[1;33m\u001b[0m\u001b[0m\n\u001b[0m",
      "\u001b[1;31mNameError\u001b[0m: name 'use_dm' is not defined"
     ]
    }
   ],
   "source": [
    "dist_heatmap(use_dm, range(0, len(text_df.text)))"
   ]
  },
  {
   "cell_type": "markdown",
   "metadata": {},
   "source": [
    "However I would argue that none of these BERT are better than the USE model. That was kind of expected, because BERT isn't really designed to be used to create perfect embeddings out of the box. USE was trained and designed specifically to do that. \n",
    "\n",
    "Really BERT is much better at classification problems, or even finding masked words. But I hope you took three things out of this. Firstly that BERT isn't super scary to try and use, with a little more reading and playing around, you could try to start using it yourselves. Secondly that like all NLP problems (and I guess problems solving in general) you need to understand what is going on to see the potential pitfalls. Lastly, BERT has some real benifits over the USE model, espically when it comes to Vocab, but also what we haven't covered is that BERT can be trained and tailored to your language, while USE is what you get and nothing more.\n",
    "\n",
    "I think its time to move to the next option, which is is to set up BERT to be able to train an embedding space.\n",
    " \n",
    " \n",
    "## Sentence Transformers\n",
    "\n",
    "When we started the previous project, the only options we had for Transformer based embeddings, were USE or BERT - as we have shown above, along with a method called Sentence-BERT which gave Sentence Embeddings from Siamese BERT-Networks. That last one while it sounds complicated was a method which used text pairs to train embeddings. For a given sentence you have to show a stentence which is the same, one that is different, and one that is neutral. This is great if you have that information, but normal text problems don't have that much labeled data in that format.\n",
    "\n",
    "In the meantime an interesting developement has been made on that front which is an unsupervised approach called [SimCSE](https://www.sbert.net/examples/unsupervised_learning/SimCSE/README.html). This leverages the pretraining of BERT to develope embeddings from bert that are much more consistent than the ones above. Instead of training it on labeled text pairs we can just feed in some sentences. The result we hope is:\n",
    "\n",
    "1. The benifits of BERTs full language and vocabulary\n",
    "2. The benifits of a USE like embedding space.\n",
    "\n",
    "So lets give it a go.\n",
    "\n",
    "### Loading things up\n",
    "\n",
    "To get this to work we are going to use the `sentence_transformers` library."
   ]
  },
  {
   "cell_type": "code",
   "execution_count": 27,
   "metadata": {
    "ExecuteTime": {
     "end_time": "2022-04-04T18:23:32.019489Z",
     "start_time": "2022-04-04T18:23:28.220559Z"
    }
   },
   "outputs": [],
   "source": [
    "from sentence_transformers import SentenceTransformer, InputExample\n",
    "from sentence_transformers import models, losses\n",
    "from torch.utils.data import DataLoader"
   ]
  },
  {
   "cell_type": "markdown",
   "metadata": {},
   "source": [
    "Now we can make our model object. The model we will choose is `bert-base-uncased`, and we are going to define our sentence transformer model using CLS pooling, with a maximum sequence length of 32 tokens. \n",
    "\n",
    "The format is a little different from the Huggingface method, so we define a `word_embedding_model` and a `pooling model`."
   ]
  },
  {
   "cell_type": "code",
   "execution_count": 28,
   "metadata": {
    "ExecuteTime": {
     "end_time": "2022-04-04T18:23:36.483943Z",
     "start_time": "2022-04-04T18:23:32.019489Z"
    }
   },
   "outputs": [
    {
     "name": "stderr",
     "output_type": "stream",
     "text": [
      "Some weights of the model checkpoint at bert-base-uncased were not used when initializing BertModel: ['cls.predictions.transform.LayerNorm.bias', 'cls.predictions.transform.dense.bias', 'cls.predictions.transform.dense.weight', 'cls.seq_relationship.bias', 'cls.predictions.transform.LayerNorm.weight', 'cls.seq_relationship.weight', 'cls.predictions.bias', 'cls.predictions.decoder.weight']\n",
      "- This IS expected if you are initializing BertModel from the checkpoint of a model trained on another task or with another architecture (e.g. initializing a BertForSequenceClassification model from a BertForPreTraining model).\n",
      "- This IS NOT expected if you are initializing BertModel from the checkpoint of a model that you expect to be exactly identical (initializing a BertForSequenceClassification model from a BertForSequenceClassification model).\n"
     ]
    }
   ],
   "source": [
    "model_name = 'bert-base-uncased'\n",
    "word_embedding_model = models.Transformer(model_name, max_seq_length=512)\n",
    "pooling_model = models.Pooling(word_embedding_model.get_word_embedding_dimension())\n",
    "model = SentenceTransformer(modules=[word_embedding_model, pooling_model])"
   ]
  },
  {
   "cell_type": "markdown",
   "metadata": {},
   "source": [
    "Next up we can set up a list of sentences we are going to train from. These should be between 1,000 and 100,000 sentences, and clearly in the same text domain that we are interested in. What I have done is simply taken some abstracts from wikipedia on topics related to those I have seen in the test sentences."
   ]
  },
  {
   "cell_type": "code",
   "execution_count": 29,
   "metadata": {
    "ExecuteTime": {
     "end_time": "2022-04-04T18:23:36.508611Z",
     "start_time": "2022-04-04T18:23:36.483943Z"
    },
    "scrolled": true
   },
   "outputs": [],
   "source": [
    "sentence_text_wiki = pd.read_csv(r\"C:/Users/muher/OneDrive - The Joint Commission/Desktop/tjc/tjc_tools/tjc_tools/observations.csv\")"
   ]
  },
  {
   "cell_type": "code",
   "execution_count": 32,
   "metadata": {},
   "outputs": [],
   "source": [
    "obs_txt = pd.DataFrame({\"text\":sentence_text_wiki[\"Observation Text\"]})\n",
    "std_txt = pd.DataFrame({\"text\": sentence_text_wiki[\"Standard Text\"]})"
   ]
  },
  {
   "cell_type": "code",
   "execution_count": 33,
   "metadata": {},
   "outputs": [],
   "source": [
    "trn_txt = pd.concat([obs_txt, std_txt], axis = 0).reset_index(drop = True)"
   ]
  },
  {
   "cell_type": "code",
   "execution_count": 34,
   "metadata": {},
   "outputs": [],
   "source": [
    "x = trn_txt[\"text\"].values.tolist()\n",
    "sentence_text_wiki = \"\".join(x)"
   ]
  },
  {
   "cell_type": "code",
   "execution_count": 35,
   "metadata": {},
   "outputs": [],
   "source": [
    "train_sentences_wiki = sentence_text_wiki.split(\".\")[0:100]"
   ]
  },
  {
   "cell_type": "code",
   "execution_count": 36,
   "metadata": {
    "ExecuteTime": {
     "end_time": "2022-04-04T18:23:36.523751Z",
     "start_time": "2022-04-04T18:23:36.508611Z"
    }
   },
   "outputs": [
    {
     "data": {
      "text/plain": [
       "71646"
      ]
     },
     "execution_count": 36,
     "metadata": {},
     "output_type": "execute_result"
    }
   ],
   "source": [
    "train_sentences_wiki = sentence_text_wiki.split(\".\")\n",
    "len(train_sentences_wiki)"
   ]
  },
  {
   "cell_type": "markdown",
   "metadata": {},
   "source": [
    "Okay so we have way less than we are supposed to have, but its enough to get going. Lets see some of those training sentences."
   ]
  },
  {
   "cell_type": "code",
   "execution_count": 37,
   "metadata": {
    "ExecuteTime": {
     "end_time": "2022-04-04T18:23:36.539941Z",
     "start_time": "2022-04-04T18:23:36.526746Z"
    }
   },
   "outputs": [],
   "source": [
    "train_sentences_wiki = sentence_text_wiki.split(\".\")[0:1000]"
   ]
  },
  {
   "cell_type": "markdown",
   "metadata": {},
   "source": [
    "Now we need to convert the training sentences to sentence pairs, and put them into a data loader."
   ]
  },
  {
   "cell_type": "code",
   "execution_count": 38,
   "metadata": {
    "ExecuteTime": {
     "end_time": "2022-04-04T18:23:36.553693Z",
     "start_time": "2022-04-04T18:23:36.545445Z"
    }
   },
   "outputs": [],
   "source": [
    "train_data_wiki = [InputExample(texts=[s, s]) for s in train_sentences_wiki]"
   ]
  },
  {
   "cell_type": "code",
   "execution_count": 39,
   "metadata": {
    "ExecuteTime": {
     "end_time": "2022-04-04T18:23:36.563107Z",
     "start_time": "2022-04-04T18:23:36.553693Z"
    }
   },
   "outputs": [],
   "source": [
    "train_dataloader_wiki = DataLoader(train_data_wiki, batch_size=128, shuffle=True)"
   ]
  },
  {
   "cell_type": "markdown",
   "metadata": {},
   "source": [
    "Then we have everything we need to train the model up. Its just about setting up the loss function, in this case a denoising auto-encoder loss, and the `fit` method will do the hard work."
   ]
  },
  {
   "cell_type": "code",
   "execution_count": 40,
   "metadata": {
    "ExecuteTime": {
     "end_time": "2022-04-04T18:26:53.349796Z",
     "start_time": "2022-04-04T18:23:36.566430Z"
    }
   },
   "outputs": [
    {
     "name": "stderr",
     "output_type": "stream",
     "text": [
      "C:\\Users\\muher\\Anaconda3\\lib\\site-packages\\transformers\\optimization.py:306: FutureWarning: This implementation of AdamW is deprecated and will be removed in a future version. Use the PyTorch implementation torch.optim.AdamW instead, or set `no_deprecation_warning=True` to disable this warning\n",
      "  warnings.warn(\n"
     ]
    },
    {
     "data": {
      "application/vnd.jupyter.widget-view+json": {
       "model_id": "d798225bf4694f2c9afa652e77038009",
       "version_major": 2,
       "version_minor": 0
      },
      "text/plain": [
       "Epoch:   0%|          | 0/1 [00:00<?, ?it/s]"
      ]
     },
     "metadata": {},
     "output_type": "display_data"
    },
    {
     "data": {
      "application/vnd.jupyter.widget-view+json": {
       "model_id": "5642c603bc8b40b791f6e84279276dc8",
       "version_major": 2,
       "version_minor": 0
      },
      "text/plain": [
       "Iteration:   0%|          | 0/8 [00:00<?, ?it/s]"
      ]
     },
     "metadata": {},
     "output_type": "display_data"
    }
   ],
   "source": [
    "train_loss = losses.MultipleNegativesRankingLoss(model)\n",
    "\n",
    "model.fit(\n",
    "    train_objectives=[(train_dataloader_wiki, train_loss)],\n",
    "    epochs=1,\n",
    "    show_progress_bar=True\n",
    ")"
   ]
  },
  {
   "cell_type": "code",
   "execution_count": 44,
   "metadata": {},
   "outputs": [
    {
     "ename": "NameError",
     "evalue": "name 'estimator' is not defined",
     "output_type": "error",
     "traceback": [
      "\u001b[1;31m---------------------------------------------------------------------------\u001b[0m",
      "\u001b[1;31mNameError\u001b[0m                                 Traceback (most recent call last)",
      "\u001b[1;32m~\\AppData\\Local\\Temp/ipykernel_5052/2213929371.py\u001b[0m in \u001b[0;36m<module>\u001b[1;34m\u001b[0m\n\u001b[0;32m      1\u001b[0m \u001b[1;31m#evaluating the model with validtation set\u001b[0m\u001b[1;33m\u001b[0m\u001b[1;33m\u001b[0m\u001b[1;33m\u001b[0m\u001b[0m\n\u001b[1;32m----> 2\u001b[1;33m \u001b[0mestimator\u001b[0m\u001b[1;33m.\u001b[0m\u001b[0mevaluate\u001b[0m\u001b[1;33m(\u001b[0m\u001b[1;33m)\u001b[0m\u001b[1;33m\u001b[0m\u001b[1;33m\u001b[0m\u001b[0m\n\u001b[0m",
      "\u001b[1;31mNameError\u001b[0m: name 'estimator' is not defined"
     ]
    }
   ],
   "source": [
    "#evaluating the model with validtation set\n",
    "estimator.evaluate()"
   ]
  },
  {
   "cell_type": "markdown",
   "metadata": {},
   "source": [
    "### Testing\n",
    "\n",
    "Lets test this on the test sentences we developed earlier, and compaired the other models to. Then just print out the heat map."
   ]
  },
  {
   "cell_type": "code",
   "execution_count": 45,
   "metadata": {
    "ExecuteTime": {
     "end_time": "2022-04-04T18:27:22.910315Z",
     "start_time": "2022-04-04T18:26:53.366467Z"
    }
   },
   "outputs": [
    {
     "data": {
      "text/plain": [
       "array([[-0.3121638 ,  0.12723058,  0.14579877, ..., -0.08680201,\n",
       "         0.01836274,  0.10837456],\n",
       "       [-0.2843103 ,  0.08840432,  0.4196115 , ..., -0.19632833,\n",
       "         0.10573903, -0.02470085],\n",
       "       [-0.34921256,  0.04078646,  0.20651898, ...,  0.13737655,\n",
       "         0.0896745 ,  0.10747889],\n",
       "       ...,\n",
       "       [-0.36644426,  0.1822883 ,  0.35002193, ..., -0.14053918,\n",
       "         0.14485225,  0.00474648],\n",
       "       [-0.37184244,  0.1625516 ,  0.27539283, ..., -0.09435476,\n",
       "         0.04238422,  0.2534243 ],\n",
       "       [-0.41905993,  0.15532357,  0.36564437, ..., -0.09286663,\n",
       "         0.08958723,  0.06826548]], dtype=float32)"
      ]
     },
     "execution_count": 45,
     "metadata": {},
     "output_type": "execute_result"
    }
   ],
   "source": [
    "sbert_wiki_array = model.encode(text_df.text.to_list())\n",
    "sbert_wiki_array"
   ]
  },
  {
   "cell_type": "code",
   "execution_count": 46,
   "metadata": {
    "ExecuteTime": {
     "end_time": "2022-04-04T18:27:22.960693Z",
     "start_time": "2022-04-04T18:27:22.918177Z"
    }
   },
   "outputs": [
    {
     "data": {
      "text/plain": [
       "array([[0.        , 2.80399132, 4.43399429],\n",
       "       [2.80399132, 0.        , 4.12736893],\n",
       "       [4.43399429, 4.12736893, 0.        ]])"
      ]
     },
     "execution_count": 46,
     "metadata": {},
     "output_type": "execute_result"
    }
   ],
   "source": [
    "sbert_wiki_dm = pairwise_dists(sbert_wiki_array)\n",
    "sbert_wiki_dm[:3,:3]"
   ]
  },
  {
   "cell_type": "code",
   "execution_count": 47,
   "metadata": {
    "ExecuteTime": {
     "end_time": "2022-04-04T18:30:13.335480Z",
     "start_time": "2022-04-04T18:30:13.052452Z"
    }
   },
   "outputs": [
    {
     "data": {
      "image/png": "[encoded data removed]",
      "text/plain": [
       "<Figure size 1296x576 with 2 Axes>"
      ]
     },
     "metadata": {
      "needs_background": "light"
     },
     "output_type": "display_data"
    }
   ],
   "source": [
    "dist_heatmap(sbert_wiki_dm, range(0, len(text_df.text)))"
   ]
  },
  {
   "cell_type": "markdown",
   "metadata": {},
   "source": [
    "That looks pretty good! Firstly you can see the big difference with this method, and the bert embeddings. They have improved massively. Secondly when we compair them to the USE model, there aren't really massive differences. From just 1 epoch of training and 200 sentences, we have achived something that on face value is about as good. See the heat map below."
   ]
  },
  {
   "cell_type": "code",
   "execution_count": 121,
   "metadata": {
    "ExecuteTime": {
     "end_time": "2022-04-04T18:30:15.754041Z",
     "start_time": "2022-04-04T18:30:15.476309Z"
    }
   },
   "outputs": [
    {
     "data": {
      "image/png": "[encoded data removed]",
      "text/plain": [
       "<Figure size 1296x576 with 2 Axes>"
      ]
     },
     "metadata": {
      "needs_background": "light"
     },
     "output_type": "display_data"
    }
   ],
   "source": [
    "dist_heatmap(use_dm, range(0, len(text_df.text)))"
   ]
  },
  {
   "cell_type": "markdown",
   "metadata": {},
   "source": [
    "So this Sentence Bert method is a really promising addition to the toolbox. It also comes with the advantage that it is tuneable to ones own data, and also has full vocab coverage. Its a really good sign.\n",
    "\n",
    "**BUT** This is a toy example. You need to start trying this on your own data to see if this will be better. THis is where proper experimental methods will help give you a much more structured way to see if this method is better than USE, and what the pitfalls of this method are - because as always there will be some.\n",
    "\n",
    "## Conclusion\n",
    "\n",
    "In this workbook you have been guided through how to do state of the art embeddings in three different ways. I hope you have seen:\n",
    "\n",
    "1. How easy they are to do\n",
    "2. That much of the barrier to embeddings is in proper evaluation afterwards\n",
    "3. That each method has its pros and cons."
   ]
  }
 ],
 "metadata": {
  "kernelspec": {
   "display_name": "Python 3 (ipykernel)",
   "language": "python",
   "name": "python3"
  },
  "language_info": {
   "codemirror_mode": {
    "name": "ipython",
    "version": 3
   },
   "file_extension": ".py",
   "mimetype": "text/x-python",
   "name": "python",
   "nbconvert_exporter": "python",
   "pygments_lexer": "ipython3",
   "version": "3.8.8"
  }
 },
 "nbformat": 4,
 "nbformat_minor": 4
}
