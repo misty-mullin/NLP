{
 "cells": [
  {
   "cell_type": "code",
   "execution_count": 1,
   "id": "f549a7ca",
   "metadata": {},
   "outputs": [],
   "source": [
    "import re\n",
    "from typing import List\n",
    "from pathlib import Path\n",
    "import pandas as pd\n",
    "import numpy as np"
   ]
  },
  {
   "cell_type": "code",
   "execution_count": 2,
   "id": "ae638f84",
   "metadata": {},
   "outputs": [],
   "source": [
    "# CMS complaint data\n",
    "df = pd.read_csv(\"CMS_complaints_clean.csv\").dropna()\n"
   ]
  },
  {
   "cell_type": "code",
   "execution_count": 3,
   "id": "164c8e5e",
   "metadata": {
    "scrolled": true
   },
   "outputs": [
    {
     "name": "stdout",
     "output_type": "stream",
     "text": [
      "      Unnamed: 0       CCN                              Facility Name  \\\n",
      "0              1   10001.0            SOUTHEAST HEALTH MEDICAL CENTER   \n",
      "1              2   10001.0            SOUTHEAST HEALTH MEDICAL CENTER   \n",
      "2              3   10001.0            SOUTHEAST HEALTH MEDICAL CENTER   \n",
      "3              4   10001.0            SOUTHEAST HEALTH MEDICAL CENTER   \n",
      "4              5   10001.0            SOUTHEAST HEALTH MEDICAL CENTER   \n",
      "...          ...       ...                                        ...   \n",
      "18438      18427  673068.0                   SUGARLAND REHAB HOSPITAL   \n",
      "18439      18428  673068.0                   SUGARLAND REHAB HOSPITAL   \n",
      "18440      18429  673068.0                   SUGARLAND REHAB HOSPITAL   \n",
      "18441      18430  673068.0                   SUGARLAND REHAB HOSPITAL   \n",
      "18442      18431  673069.0  PAM REHABILITATION HOSPITAL OF ROUND ROCK   \n",
      "\n",
      "               Street Address        City State  Zip Code Accreditation Type  \\\n",
      "0      1108 ROSS CLARK CIRCLE      DOTHAN    AL   36301.0             DNV GL   \n",
      "1      1108 ROSS CLARK CIRCLE      DOTHAN    AL   36301.0             DNV GL   \n",
      "2      1108 ROSS CLARK CIRCLE      DOTHAN    AL   36301.0             DNV GL   \n",
      "3      1108 ROSS CLARK CIRCLE      DOTHAN    AL   36301.0             DNV GL   \n",
      "4      1108 ROSS CLARK CIRCLE      DOTHAN    AL   36301.0             DNV GL   \n",
      "...                       ...         ...   ...       ...                ...   \n",
      "18438        7622 BRANFORD PL  SUGAR LAND    TX   77479.0                 JC   \n",
      "18439        7622 BRANFORD PL  SUGAR LAND    TX   77479.0                 JC   \n",
      "18440        7622 BRANFORD PL  SUGAR LAND    TX   77479.0                 JC   \n",
      "18441        7622 BRANFORD PL  SUGAR LAND    TX   77479.0                 JC   \n",
      "18442       351 SETON PARKWAY  ROUND ROCK    TX   78665.0                 JC   \n",
      "\n",
      "             date deficiency                               defdesc     tag  \\\n",
      "0       8/24/2017  Condition                        GOVERNING BODY  A-0043   \n",
      "1       8/24/2017   Standard               CHIEF EXECUTIVE OFFICER  A-0057   \n",
      "2       8/24/2017  Condition                        PATIENT RIGHTS  A-0115   \n",
      "3       8/24/2017   Standard  PATIENT RIGHTS: CARE IN SAFE SETTING  A-0144   \n",
      "4       8/24/2017   Standard  PATIENT RIGHTS: CARE IN SAFE SETTING  A-0144   \n",
      "...           ...        ...                                   ...     ...   \n",
      "18438  12/17/2019   Standard  PATIENT RIGHTS: CARE IN SAFE SETTING  A-0144   \n",
      "18439  12/17/2019   Standard                     NURSING CARE PLAN  A-0396   \n",
      "18440  12/17/2019   Standard               ADMINISTRATION OF DRUGS  A-0405   \n",
      "18441  12/17/2019  Condition            FOOD AND DIETETIC SERVICES  A-0618   \n",
      "18442  11/19/2019   Standard  PATIENT RIGHTS: CARE IN SAFE SETTING  A-0144   \n",
      "\n",
      "                                                    text  Output  \n",
      "0      20228  This condition level deficiency was cit...      26  \n",
      "1      20228  Based on observations, review of facili...      26  \n",
      "2      20228  Based on observations, review of facili...      18  \n",
      "3      20228  Based on observations, review of facili...     261  \n",
      "4                                20228    22965    30952       0  \n",
      "...                                                  ...     ...  \n",
      "18438  30124    Based on observation, interview, and ...      80  \n",
      "18439  37492  Based on observation, record review and...      16  \n",
      "18440  10802   Based on observation, record review, a...      85  \n",
      "18441  10802    Based on observation, interview, and ...      59  \n",
      "18442  36594  Based on review of medical records and ...       7  \n",
      "\n",
      "[18431 rows x 14 columns]\n"
     ]
    }
   ],
   "source": [
    "df['Output'] = df['text'].str.count('[\\w][\\.!\\?]')\n",
    "print (df)"
   ]
  },
  {
   "cell_type": "code",
   "execution_count": 4,
   "id": "f1aa5670",
   "metadata": {},
   "outputs": [
    {
     "data": {
      "text/plain": [
       "array([[<AxesSubplot:title={'center':'Output'}>]], dtype=object)"
      ]
     },
     "execution_count": 4,
     "metadata": {},
     "output_type": "execute_result"
    },
    {
     "data": {
      "image/png": "[encoded data removed]",
      "text/plain": [
       "<Figure size 432x288 with 1 Axes>"
      ]
     },
     "metadata": {
      "needs_background": "light"
     },
     "output_type": "display_data"
    }
   ],
   "source": [
    "df.hist(column='Output', bins=10)"
   ]
  },
  {
   "cell_type": "code",
   "execution_count": 5,
   "id": "c4a358b6",
   "metadata": {},
   "outputs": [
    {
     "data": {
      "text/plain": [
       "count    18431.000000\n",
       "mean        39.723021\n",
       "std         52.332484\n",
       "min          0.000000\n",
       "25%         10.000000\n",
       "50%         21.000000\n",
       "75%         47.000000\n",
       "max        626.000000\n",
       "Name: Output, dtype: float64"
      ]
     },
     "execution_count": 5,
     "metadata": {},
     "output_type": "execute_result"
    }
   ],
   "source": [
    "df['Output'].describe()"
   ]
  },
  {
   "cell_type": "code",
   "execution_count": 6,
   "id": "376a0ed2",
   "metadata": {},
   "outputs": [
    {
     "name": "stdout",
     "output_type": "stream",
     "text": [
      "      Unnamed: 0       CCN                              Facility Name  \\\n",
      "0              1   10001.0            SOUTHEAST HEALTH MEDICAL CENTER   \n",
      "1              2   10001.0            SOUTHEAST HEALTH MEDICAL CENTER   \n",
      "2              3   10001.0            SOUTHEAST HEALTH MEDICAL CENTER   \n",
      "3              4   10001.0            SOUTHEAST HEALTH MEDICAL CENTER   \n",
      "4              5   10001.0            SOUTHEAST HEALTH MEDICAL CENTER   \n",
      "...          ...       ...                                        ...   \n",
      "18438      18427  673068.0                   SUGARLAND REHAB HOSPITAL   \n",
      "18439      18428  673068.0                   SUGARLAND REHAB HOSPITAL   \n",
      "18440      18429  673068.0                   SUGARLAND REHAB HOSPITAL   \n",
      "18441      18430  673068.0                   SUGARLAND REHAB HOSPITAL   \n",
      "18442      18431  673069.0  PAM REHABILITATION HOSPITAL OF ROUND ROCK   \n",
      "\n",
      "               Street Address        City State  Zip Code Accreditation Type  \\\n",
      "0      1108 ROSS CLARK CIRCLE      DOTHAN    AL   36301.0             DNV GL   \n",
      "1      1108 ROSS CLARK CIRCLE      DOTHAN    AL   36301.0             DNV GL   \n",
      "2      1108 ROSS CLARK CIRCLE      DOTHAN    AL   36301.0             DNV GL   \n",
      "3      1108 ROSS CLARK CIRCLE      DOTHAN    AL   36301.0             DNV GL   \n",
      "4      1108 ROSS CLARK CIRCLE      DOTHAN    AL   36301.0             DNV GL   \n",
      "...                       ...         ...   ...       ...                ...   \n",
      "18438        7622 BRANFORD PL  SUGAR LAND    TX   77479.0                 JC   \n",
      "18439        7622 BRANFORD PL  SUGAR LAND    TX   77479.0                 JC   \n",
      "18440        7622 BRANFORD PL  SUGAR LAND    TX   77479.0                 JC   \n",
      "18441        7622 BRANFORD PL  SUGAR LAND    TX   77479.0                 JC   \n",
      "18442       351 SETON PARKWAY  ROUND ROCK    TX   78665.0                 JC   \n",
      "\n",
      "             date deficiency                               defdesc     tag  \\\n",
      "0       8/24/2017  Condition                        GOVERNING BODY  A-0043   \n",
      "1       8/24/2017   Standard               CHIEF EXECUTIVE OFFICER  A-0057   \n",
      "2       8/24/2017  Condition                        PATIENT RIGHTS  A-0115   \n",
      "3       8/24/2017   Standard  PATIENT RIGHTS: CARE IN SAFE SETTING  A-0144   \n",
      "4       8/24/2017   Standard  PATIENT RIGHTS: CARE IN SAFE SETTING  A-0144   \n",
      "...           ...        ...                                   ...     ...   \n",
      "18438  12/17/2019   Standard  PATIENT RIGHTS: CARE IN SAFE SETTING  A-0144   \n",
      "18439  12/17/2019   Standard                     NURSING CARE PLAN  A-0396   \n",
      "18440  12/17/2019   Standard               ADMINISTRATION OF DRUGS  A-0405   \n",
      "18441  12/17/2019  Condition            FOOD AND DIETETIC SERVICES  A-0618   \n",
      "18442  11/19/2019   Standard  PATIENT RIGHTS: CARE IN SAFE SETTING  A-0144   \n",
      "\n",
      "                                                    text  Output  \n",
      "0      20228  This condition level deficiency was cit...      16  \n",
      "1      20228  Based on observations, review of facili...      16  \n",
      "2      20228  Based on observations, review of facili...      11  \n",
      "3      20228  Based on observations, review of facili...     315  \n",
      "4                                20228    22965    30952       1  \n",
      "...                                                  ...     ...  \n",
      "18438  30124    Based on observation, interview, and ...      68  \n",
      "18439  37492  Based on observation, record review and...      18  \n",
      "18440  10802   Based on observation, record review, a...      66  \n",
      "18441  10802    Based on observation, interview, and ...      55  \n",
      "18442  36594  Based on review of medical records and ...       8  \n",
      "\n",
      "[18431 rows x 14 columns]\n"
     ]
    }
   ],
   "source": [
    "import textstat\n",
    "\n",
    "df['Output'] = df['text'].apply(textstat.sentence_count)\n",
    "print (df)"
   ]
  },
  {
   "cell_type": "code",
   "execution_count": 7,
   "id": "98a14265",
   "metadata": {},
   "outputs": [
    {
     "data": {
      "text/plain": [
       "array([[<AxesSubplot:title={'center':'Output'}>]], dtype=object)"
      ]
     },
     "execution_count": 7,
     "metadata": {},
     "output_type": "execute_result"
    },
    {
     "data": {
      "image/png": "[encoded data removed]",
      "text/plain": [
       "<Figure size 432x288 with 1 Axes>"
      ]
     },
     "metadata": {
      "needs_background": "light"
     },
     "output_type": "display_data"
    }
   ],
   "source": [
    "import math\n",
    "w = 10\n",
    "n = math.ceil((df['Output'].max() - df['Output'].min())/w)\n",
    "df.hist(column='Output', bins=n)"
   ]
  },
  {
   "cell_type": "code",
   "execution_count": 8,
   "id": "d72c4d3c",
   "metadata": {},
   "outputs": [
    {
     "data": {
      "text/plain": [
       "count    18431.000000\n",
       "mean        37.360534\n",
       "std         48.098880\n",
       "min          1.000000\n",
       "25%         10.000000\n",
       "50%         21.000000\n",
       "75%         44.000000\n",
       "max        459.000000\n",
       "Name: Output, dtype: float64"
      ]
     },
     "execution_count": 8,
     "metadata": {},
     "output_type": "execute_result"
    }
   ],
   "source": [
    "df['Output'].describe()\n"
   ]
  },
  {
   "cell_type": "code",
   "execution_count": 9,
   "id": "45c4fc44",
   "metadata": {
    "scrolled": true
   },
   "outputs": [
    {
     "data": {
      "text/plain": [
       "array([[<AxesSubplot:title={'center':'Output'}>]], dtype=object)"
      ]
     },
     "execution_count": 9,
     "metadata": {},
     "output_type": "execute_result"
    },
    {
     "data": {
      "image/png": "[encoded data removed]",
      "text/plain": [
       "<Figure size 432x288 with 1 Axes>"
      ]
     },
     "metadata": {
      "needs_background": "light"
     },
     "output_type": "display_data"
    }
   ],
   "source": [
    "df.hist(column='Output', bins=100)"
   ]
  },
  {
   "cell_type": "markdown",
   "id": "64deca77",
   "metadata": {},
   "source": [
    "Distribution of number of words per sentence"
   ]
  },
  {
   "cell_type": "code",
   "execution_count": 31,
   "id": "ebd3fa3b",
   "metadata": {},
   "outputs": [],
   "source": [
    "df['text'] = df['text'].astype(str)"
   ]
  },
  {
   "cell_type": "code",
   "execution_count": 32,
   "id": "2e21421f",
   "metadata": {},
   "outputs": [
    {
     "data": {
      "text/plain": [
       "0        20228  This condition level deficiency was cit...\n",
       "1        20228  Based on observations, review of facili...\n",
       "2        20228  Based on observations, review of facili...\n",
       "3        20228  Based on observations, review of facili...\n",
       "4                                  20228    22965    30952\n",
       "                               ...                        \n",
       "18438    30124    Based on observation, interview, and ...\n",
       "18439    37492  Based on observation, record review and...\n",
       "18440    10802   Based on observation, record review, a...\n",
       "18441    10802    Based on observation, interview, and ...\n",
       "18442    36594  Based on review of medical records and ...\n",
       "Name: text, Length: 18431, dtype: object"
      ]
     },
     "execution_count": 32,
     "metadata": {},
     "output_type": "execute_result"
    }
   ],
   "source": [
    "df['text']"
   ]
  },
  {
   "cell_type": "code",
   "execution_count": 40,
   "id": "38b6627d",
   "metadata": {},
   "outputs": [],
   "source": [
    "import string\n",
    "nwords = df['text'].str.split().map(len).sum()\n",
    "nsenetences = df['text'].count()\n",
    "nunique_words = len(set([x for i in df['text'].str.split().apply(lambda x: [''.join([y for y in i if y not in string.punctuation]) for i in x]).tolist() for x in i]))"
   ]
  },
  {
   "cell_type": "code",
   "execution_count": 37,
   "id": "4211da30",
   "metadata": {},
   "outputs": [
    {
     "data": {
      "text/plain": [
       "18431"
      ]
     },
     "execution_count": 37,
     "metadata": {},
     "output_type": "execute_result"
    }
   ],
   "source": [
    "nsenetences"
   ]
  },
  {
   "cell_type": "code",
   "execution_count": 38,
   "id": "48553d93",
   "metadata": {},
   "outputs": [
    {
     "data": {
      "text/plain": [
       "121852"
      ]
     },
     "execution_count": 38,
     "metadata": {},
     "output_type": "execute_result"
    }
   ],
   "source": [
    "nunique_words"
   ]
  },
  {
   "cell_type": "code",
   "execution_count": 39,
   "id": "7f8eebe2",
   "metadata": {},
   "outputs": [
    {
     "data": {
      "text/plain": [
       "14015478"
      ]
     },
     "execution_count": 39,
     "metadata": {},
     "output_type": "execute_result"
    }
   ],
   "source": []
  },
  {
   "cell_type": "code",
   "execution_count": 41,
   "id": "a3a1accb",
   "metadata": {},
   "outputs": [],
   "source": [
    "#crayons\n",
    "def split_into_sentences(text: str) -> List[str]:\n",
    "    \"\"\"Splits a string into list where each entry is a sentence\n",
    "\n",
    "    Parameters\n",
    "    ----------\n",
    "    text : str\n",
    "        previously cleaned lower case text which can be broken into sentences\n",
    "\n",
    "    Returns\n",
    "    -------\n",
    "    List[str]\n",
    "        a list where each entry is a sentence in the form of str,\n",
    "        and we have cleaned out other text which containes fullstops:\n",
    "        - websites to have the mask <website>\n",
    "        - standards in the from XYZ.11.11.11 to be <standard>\n",
    "    \"\"\"\n",
    "\n",
    "    # set out the common replacement shorthands\n",
    "    alphabets = \"([A-Za-z])\"\n",
    "    prefixes = \"(mr|st|mrs|ms|dr)[.]\"\n",
    "    suffixes = \"(inc|ltd|jr|sr|co)\"\n",
    "    starters = r\"(mr|mrs|ms|dr|he\\s|she\\s|it\\s|they\\s\"\n",
    "    starters += r\"|their\\s|our\\s|we\\s|but\\s|however\\s|that\\s|this\\s|wherever)\"\n",
    "    standards = r\"([a-z]+\\.[0-9]+\\.[0-9]+\\.[0-9]+)\"\n",
    "    acronyms = \"([a-z][.][a-z][.](?:[a-z][.])?)\"\n",
    "    websites = \"[.](com|net|org|io|gov)\"\n",
    "    url = r\"(https?://\\S+)\"\n",
    "\n",
    "    # put a fullstop at the end of paragraph without, i.e. at end of bullet points\n",
    "    text = text.rstrip()\n",
    "    if not text.endswith(\".\"):\n",
    "        text = text + \".\"\n",
    "\n",
    "    # clean the text up to make sure its standardised\n",
    "    text = \" \" + text + \"  \"\n",
    "    text = text.replace(r\"\\n\", \" \")\n",
    "\n",
    "    # replace websites and standards with a mask\n",
    "    text = re.sub(url, \"<website>\", text)\n",
    "    text = re.sub(standards, \"<standard-number>\", text)\n",
    "\n",
    "    #\n",
    "    text = re.sub(r\"(?<=\\d)\\.\", \"<prd>\", text)\n",
    "    text = re.sub(prefixes, \"\\\\1<prd>\", text)\n",
    "    text = re.sub(websites, \"<prd>\\\\1\", text)\n",
    "    # if \"Ph.D\" in text:\n",
    "    #    text = text.replace(\"Ph.D.\", \"Ph<prd>D<prd>\")\n",
    "    text = re.sub(r\"\\s\" + alphabets + \"[.] \", \" \\\\1<prd> \", text)\n",
    "    text = re.sub(acronyms + \" \" + starters, \"\\\\1<stop> \\\\2\", text)\n",
    "    text = re.sub(\n",
    "        alphabets + \"[.]\" + alphabets + \"[.]\" + alphabets + \"[.]\",\n",
    "        \"\\\\1<prd>\\\\2<prd>\\\\3<prd>\",\n",
    "        text,\n",
    "    )\n",
    "    text = re.sub(alphabets + \"[.]\" + alphabets + \"[.]\", \"\\\\1<prd>\\\\2<prd>\", text)\n",
    "    text = re.sub(\" \" + suffixes + \"[.] \" + starters, \" \\\\1<stop> \\\\2\", text)\n",
    "    text = re.sub(\" \" + suffixes + \"[.]\", \" \\\\1<prd>\", text)\n",
    "    text = re.sub(\" \" + alphabets + \"[.]\", \" \\\\1<prd>\", text)\n",
    "\n",
    "    if \"”\" in text:\n",
    "        text = text.replace(\".”\", \"”.\")\n",
    "    if '\"' in text:\n",
    "        text = text.replace('.\"', '\".')\n",
    "    if \"!\" in text:\n",
    "        text = text.replace('!\"', '\"!')\n",
    "    if \"?\" in text:\n",
    "        text = text.replace('?\"', '\"?')\n",
    "\n",
    "    # replace all the sentence ending signifers with a <stop>\n",
    "    text = text.replace(\".\", \".<stop>\")\n",
    "    text = text.replace(\"?\", \"?<stop>\")\n",
    "    text = text.replace(\"!\", \"!<stop>\")\n",
    "\n",
    "    # replace our <prd> holder token with a fullstop\n",
    "    text = text.replace(\"<prd>\", \".\")\n",
    "\n",
    "    if \"<stop>\" in text:\n",
    "        # split on our sentence break <stop>, and clean up\n",
    "        sentences = text.split(\"<stop>\")\n",
    "        sentences = sentences[:-1]\n",
    "        sentences = [s.strip() for s in sentences]\n",
    "    else:\n",
    "        sentences = [text.strip()]\n",
    "\n",
    "    return sentences"
   ]
  },
  {
   "cell_type": "code",
   "execution_count": 44,
   "id": "565b657e",
   "metadata": {},
   "outputs": [
    {
     "data": {
      "text/html": [
       "<div>\n",
       "<style scoped>\n",
       "    .dataframe tbody tr th:only-of-type {\n",
       "        vertical-align: middle;\n",
       "    }\n",
       "\n",
       "    .dataframe tbody tr th {\n",
       "        vertical-align: top;\n",
       "    }\n",
       "\n",
       "    .dataframe thead th {\n",
       "        text-align: right;\n",
       "    }\n",
       "</style>\n",
       "<table border=\"1\" class=\"dataframe\">\n",
       "  <thead>\n",
       "    <tr style=\"text-align: right;\">\n",
       "      <th></th>\n",
       "      <th>text</th>\n",
       "    </tr>\n",
       "  </thead>\n",
       "  <tbody>\n",
       "    <tr>\n",
       "      <th>0</th>\n",
       "      <td>[20228  This condition level deficiency was ci...</td>\n",
       "    </tr>\n",
       "    <tr>\n",
       "      <th>1</th>\n",
       "      <td>[20228  Based on observations, review of facil...</td>\n",
       "    </tr>\n",
       "    <tr>\n",
       "      <th>2</th>\n",
       "      <td>[20228  Based on observations, review of facil...</td>\n",
       "    </tr>\n",
       "    <tr>\n",
       "      <th>3</th>\n",
       "      <td>[20228  Based on observations, review of facil...</td>\n",
       "    </tr>\n",
       "    <tr>\n",
       "      <th>4</th>\n",
       "      <td>[20228    22965    30952.]</td>\n",
       "    </tr>\n",
       "    <tr>\n",
       "      <th>...</th>\n",
       "      <td>...</td>\n",
       "    </tr>\n",
       "    <tr>\n",
       "      <th>18438</th>\n",
       "      <td>[30124    Based on observation, interview, and...</td>\n",
       "    </tr>\n",
       "    <tr>\n",
       "      <th>18439</th>\n",
       "      <td>[37492  Based on observation, record review an...</td>\n",
       "    </tr>\n",
       "    <tr>\n",
       "      <th>18440</th>\n",
       "      <td>[10802   Based on observation, record review, ...</td>\n",
       "    </tr>\n",
       "    <tr>\n",
       "      <th>18441</th>\n",
       "      <td>[10802    Based on observation, interview, and...</td>\n",
       "    </tr>\n",
       "    <tr>\n",
       "      <th>18442</th>\n",
       "      <td>[36594  Based on review of medical records and...</td>\n",
       "    </tr>\n",
       "  </tbody>\n",
       "</table>\n",
       "<p>18431 rows × 1 columns</p>\n",
       "</div>"
      ],
      "text/plain": [
       "                                                    text\n",
       "0      [20228  This condition level deficiency was ci...\n",
       "1      [20228  Based on observations, review of facil...\n",
       "2      [20228  Based on observations, review of facil...\n",
       "3      [20228  Based on observations, review of facil...\n",
       "4                             [20228    22965    30952.]\n",
       "...                                                  ...\n",
       "18438  [30124    Based on observation, interview, and...\n",
       "18439  [37492  Based on observation, record review an...\n",
       "18440  [10802   Based on observation, record review, ...\n",
       "18441  [10802    Based on observation, interview, and...\n",
       "18442  [36594  Based on review of medical records and...\n",
       "\n",
       "[18431 rows x 1 columns]"
      ]
     },
     "execution_count": 44,
     "metadata": {},
     "output_type": "execute_result"
    }
   ],
   "source": [
    "df[col].applymap(split_into_sentences)"
   ]
  },
  {
   "cell_type": "code",
   "execution_count": 45,
   "id": "092ae7bd",
   "metadata": {},
   "outputs": [
    {
     "data": {
      "text/plain": [
       "\"20228  This condition level deficiency was cited based on observations, review of facility policies, Facility Scope of Care Behavioral Health Services (BHS) / Behavioral Medicine Unit (BMU), facility work order maintenance requests, security video footage, Root Cause Analysis (RCA), medical records, Risk Management Worksheets, Unit Profile reports, Safety Checklist documentation, Minutes Houston County Health Care Authority Quality Committee, interviews and Facility's Corrective Action Plan submitted to the surveyors on 8/24/17, it was determined the governing body failed to ensure:  1. Psychiatric patients were provided care in a safe environment.   2. Mental Health Technicians (MHTs) performed patient safety rounds every 15 minutes.   3. The Registered Nurse (RN) conducted hourly rounds on patients and supervised the care provided by the MHTs to ensure patient observations were conducted every 15 minutes according to physician orders.  4. The BMU staff recognized the complexity of Patient Identifier (PI) #1's previous suicide attempts, including the attempt to self violence in the facility's Emergency Department (ED) and place the patient on 1:1 observation.  5. A treatment plan was implemented and updated for a suicidal patient to provide safe care and environment for PI # 1.   6. The BMU staff recognized PI # 2's self-destructive behaviors while in the BMU and was placed on 1:1 observation.  7. PI # 2's right to be free of restraint was not violated by placing the patient in a geri-chair (cardiac chair) for greater than 15 hours after being found trying to harm him/herself.   8. The BMU staff conducted environmental safety rounding each shift and ensure physical surroundings were safely maintained to protect patients and prevent potential harm.  9. Patient occurrences were reported, investigated, analyzed and preventative measures were implemented to prevent further occurrences.  10. The sentinel event involving PI # 1, a patient who successfully committed suicide while a patient in the BMU was reviewed in monthly quality meetings of the governing body.  11. Governing Body Quality Committee meetings were conducted for the months of July 2017 and as of the date of this survey (8/24/17) August 2017.  12. The BMU (2 North and 3 North) was staffed according to their budgeted target hours, which increased the patient work load for licensed, unlicensed and clerical staff caring for those patients.  This affected 3 of 3 medical records (PI # 1, PI # 2, PI # 3) and 3 of 6 patients with adverse occurrences (PI # 4, PI # 6 and PI # 7). This also has the potential to negatively affect all patients admitted to this facility.   Findings include:  Refer to A0057, A115, A263, A309 and A385 for findings.\""
      ]
     },
     "execution_count": 45,
     "metadata": {},
     "output_type": "execute_result"
    }
   ],
   "source": [
    "col=[\"text\"]\n",
    "df['text'][0]"
   ]
  },
  {
   "cell_type": "code",
   "execution_count": 47,
   "id": "e02eff35",
   "metadata": {},
   "outputs": [],
   "source": [
    "def process(txt):\n",
    "    return split_into_sentences(txt)[0].split(\"  \")\n",
    "\n",
    "col = [\"text\"]\n",
    "df[col] = df[col].applymap(process) "
   ]
  },
  {
   "cell_type": "code",
   "execution_count": 54,
   "id": "5dbb1e57",
   "metadata": {},
   "outputs": [
    {
     "data": {
      "text/plain": [
       "array([list(['20228', \"This condition level deficiency was cited based on observations, review of facility policies, Facility Scope of Care Behavioral Health Services (BHS) / Behavioral Medicine Unit (BMU), facility work order maintenance requests, security video footage, Root Cause Analysis (RCA), medical records, Risk Management Worksheets, Unit Profile reports, Safety Checklist documentation, Minutes Houston County Health Care Authority Quality Committee, interviews and Facility's Corrective Action Plan submitted to the surveyors on 8/24/17, it was determined the governing body failed to ensure:\", '1. Psychiatric patients were provided care in a safe environment.'])],\n",
       "      dtype=object)"
      ]
     },
     "execution_count": 54,
     "metadata": {},
     "output_type": "execute_result"
    }
   ],
   "source": [
    "df[col].iloc[0].values"
   ]
  },
  {
   "cell_type": "code",
   "execution_count": null,
   "id": "6728feac",
   "metadata": {},
   "outputs": [],
   "source": []
  }
 ],
 "metadata": {
  "kernelspec": {
   "display_name": "Python 3 (ipykernel)",
   "language": "python",
   "name": "python3"
  },
  "language_info": {
   "codemirror_mode": {
    "name": "ipython",
    "version": 3
   },
   "file_extension": ".py",
   "mimetype": "text/x-python",
   "name": "python",
   "nbconvert_exporter": "python",
   "pygments_lexer": "ipython3",
   "version": "3.8.8"
  }
 },
 "nbformat": 4,
 "nbformat_minor": 5
}
